{
 "cells": [
  {
   "cell_type": "markdown",
   "metadata": {
    "id": "lANElZ9uX43P"
   },
   "source": [
    "# Siamese Neural Network (SNN) (Testing)"
   ]
  },
  {
   "cell_type": "markdown",
   "metadata": {
    "id": "F6viiDEnX43X"
   },
   "source": [
    "## Importing libraries"
   ]
  },
  {
   "cell_type": "code",
   "execution_count": null,
   "metadata": {
    "executionInfo": {
     "elapsed": 450,
     "status": "ok",
     "timestamp": 1617487409945,
     "user": {
      "displayName": "Diego Alberto Salinas Navarro",
      "photoUrl": "https://lh3.googleusercontent.com/a-/AOh14GhbwNYSSG6XI9Y6slEjlzh6crW1ac3ikTlzpuIUMw=s64",
      "userId": "17435702845671512196"
     },
     "user_tz": 360
    },
    "id": "jCp51VCKX43d"
   },
   "outputs": [],
   "source": [
    "import torchvision\n",
    "import torchvision.datasets as dset\n",
    "import torchvision.transforms as transforms\n",
    "import torchvision.models as models\n",
    "from torch.utils.data import DataLoader, Dataset\n",
    "import matplotlib.pyplot as plt\n",
    "import matplotlib.mlab as mlab\n",
    "import matplotlib.image as mpimg\n",
    "import torchvision.utils\n",
    "import numpy as np\n",
    "import random\n",
    "import pandas as pd\n",
    "from PIL import Image\n",
    "import torch\n",
    "import PIL.ImageOps    \n",
    "import torch.nn as nn\n",
    "from torch import optim\n",
    "import torch.nn.functional as F\n",
    "from math import sqrt\n",
    "from operator import itemgetter"
   ]
  },
  {
   "cell_type": "markdown",
   "metadata": {
    "id": "kWXWHfolX44g"
   },
   "source": [
    "## Configuration class"
   ]
  },
  {
   "cell_type": "code",
   "execution_count": null,
   "metadata": {
    "executionInfo": {
     "elapsed": 167083,
     "status": "ok",
     "timestamp": 1617487576605,
     "user": {
      "displayName": "Diego Alberto Salinas Navarro",
      "photoUrl": "https://lh3.googleusercontent.com/a-/AOh14GhbwNYSSG6XI9Y6slEjlzh6crW1ac3ikTlzpuIUMw=s64",
      "userId": "17435702845671512196"
     },
     "user_tz": 360
    },
    "id": "SwXLG_4mX44l"
   },
   "outputs": [],
   "source": [
    "class Config:\n",
    "    \n",
    "    def __init__(self, training_dir, testing_dir, dir_training, dir_testing):\n",
    "        self.training_dir = training_dir\n",
    "        self.testing_dir = testing_dir\n",
    "        self.dset_training = pd.read_csv(dir_training, index_col = 0)\n",
    "        self.dset_testing = pd.read_csv(dir_testing, index_col = 0)\n",
    "\n",
    "conf = Config(\"./data/memes/training/\", \n",
    "              \"./data/memes/testing/\",\n",
    "              \"./data/spb_training.csv\", \n",
    "              \"./data/spb_testing.csv\")\n",
    "\n",
    "normalize = transforms.Normalize(mean = [0.485, 0.456, 0.406],\n",
    "                                 std = [0.229, 0.224, 0.225])"
   ]
  },
  {
   "cell_type": "markdown",
   "metadata": {
    "id": "JqJbLmIg4z0D"
   },
   "source": [
    "## Loading model"
   ]
  },
  {
   "cell_type": "code",
   "execution_count": null,
   "metadata": {
    "executionInfo": {
     "elapsed": 167079,
     "status": "ok",
     "timestamp": 1617487576608,
     "user": {
      "displayName": "Diego Alberto Salinas Navarro",
      "photoUrl": "https://lh3.googleusercontent.com/a-/AOh14GhbwNYSSG6XI9Y6slEjlzh6crW1ac3ikTlzpuIUMw=s64",
      "userId": "17435702845671512196"
     },
     "user_tz": 360
    },
    "id": "QBl4D4a3X46S"
   },
   "outputs": [],
   "source": [
    "class SiameseNetwork_AlexNet(nn.Module):\n",
    "    \n",
    "    def __init__(self, use_pretrained, num_classes):\n",
    "        super(SiameseNetwork_AlexNet, self).__init__()\n",
    "        self.model_ft = models.alexnet(pretrained = use_pretrained)\n",
    "        num_ftrs = self.model_ft.classifier[1].in_features\n",
    "        self.model_ft = nn.Sequential(*list(self.model_ft.children())[:-1])\n",
    "        self.fc_mse = nn.Sequential(\n",
    "            nn.Dropout(),\n",
    "            nn.Linear(num_ftrs * 2, num_classes, bias = True),\n",
    "            nn.ReLU(inplace = True),\n",
    "            nn.Linear(num_classes, 1, bias = True)\n",
    "        )\n",
    "\n",
    "    def forward_once(self, x):\n",
    "        output = self.model_ft(x)\n",
    "        return output.view(output.size(0), -1)\n",
    "\n",
    "    def forward(self, input1, input2):\n",
    "        output1 = self.forward_once(input1)\n",
    "        output2 = self.forward_once(input2)\n",
    "        output = torch.cat((output1, output2), 1)\n",
    "        output = self.fc_mse(output)\n",
    "        return output"
   ]
  },
  {
   "cell_type": "code",
   "execution_count": null,
   "metadata": {
    "colab": {
     "base_uri": "https://localhost:8080/"
    },
    "executionInfo": {
     "elapsed": 2489,
     "status": "ok",
     "timestamp": 1617488533124,
     "user": {
      "displayName": "Diego Alberto Salinas Navarro",
      "photoUrl": "https://lh3.googleusercontent.com/a-/AOh14GhbwNYSSG6XI9Y6slEjlzh6crW1ac3ikTlzpuIUMw=s64",
      "userId": "17435702845671512196"
     },
     "user_tz": 360
    },
    "id": "AtDtP9Yf48MB",
    "outputId": "020b664a-643b-44c1-d93f-4edf28b58de7"
   },
   "outputs": [],
   "source": [
    "net = SiameseNetwork_AlexNet(True, 512).cuda()\n",
    "net.load_state_dict(torch.load(\"./models/alexnet_mse.zip\"))\n",
    "net.eval()"
   ]
  },
  {
   "cell_type": "markdown",
   "metadata": {
    "id": "_2StTzvIX45Q"
   },
   "source": [
    "## Dataset class"
   ]
  },
  {
   "cell_type": "code",
   "execution_count": null,
   "metadata": {
    "executionInfo": {
     "elapsed": 2631,
     "status": "ok",
     "timestamp": 1617488533297,
     "user": {
      "displayName": "Diego Alberto Salinas Navarro",
      "photoUrl": "https://lh3.googleusercontent.com/a-/AOh14GhbwNYSSG6XI9Y6slEjlzh6crW1ac3ikTlzpuIUMw=s64",
      "userId": "17435702845671512196"
     },
     "user_tz": 360
    },
    "id": "r0h1SrmKWezX"
   },
   "outputs": [],
   "source": [
    "class SiameseNetworkDataset(Dataset):\n",
    "    \n",
    "    def __init__(self, imageFolderDataset, dset_csv, transform = None):\n",
    "        self.imageFolderDataset = imageFolderDataset\n",
    "        self.dset_csv = dset_csv\n",
    "        self.transform = transform\n",
    "        \n",
    "    def __getitem__(self, index):  \n",
    "        img_tuple = self.imageFolderDataset.imgs[index] \n",
    "        img_id = self.obtain_id(img_tuple[0])\n",
    "        img_fav = self.dset_csv.loc[img_id]['favorites']\n",
    "        img_tensor = Image.open(img_tuple[0])\n",
    "        img_tensor = img_tensor.convert(\"RGB\")\n",
    "        if self.transform is not None:\n",
    "            img_tensor = self.transform(img_tensor)\n",
    "        return img_id, img_tensor, img_fav\n",
    "\n",
    "    def __len__(self):\n",
    "        return len(self.imageFolderDataset.imgs)\n",
    "\n",
    "    def obtain_id(self, img_route):\n",
    "        return int(img_route.split(\"/\")[-1].split(\".\")[0])"
   ]
  },
  {
   "cell_type": "markdown",
   "metadata": {
    "id": "3kTH1z8hoY-U"
   },
   "source": [
    "## Loading training dataset"
   ]
  },
  {
   "cell_type": "code",
   "execution_count": null,
   "metadata": {
    "executionInfo": {
     "elapsed": 5814,
     "status": "ok",
     "timestamp": 1617488536489,
     "user": {
      "displayName": "Diego Alberto Salinas Navarro",
      "photoUrl": "https://lh3.googleusercontent.com/a-/AOh14GhbwNYSSG6XI9Y6slEjlzh6crW1ac3ikTlzpuIUMw=s64",
      "userId": "17435702845671512196"
     },
     "user_tz": 360
    },
    "id": "89sY6nnxX45U"
   },
   "outputs": [],
   "source": [
    "tr_folder_dataset = dset.ImageFolder(conf.training_dir)\n",
    "tr_siamese_dataset = SiameseNetworkDataset(imageFolderDataset = tr_folder_dataset,\n",
    "                                        dset_csv = conf.dset_training,\n",
    "                                        transform = transforms.Compose([transforms.Resize((224, 224)),\n",
    "                                                    transforms.ToTensor(), \n",
    "                                                    normalize]))\n",
    "tr_dataloader = DataLoader(tr_siamese_dataset, num_workers = 2, batch_size = 1, shuffle = True)"
   ]
  },
  {
   "cell_type": "markdown",
   "metadata": {
    "id": "yG2HFJKla40Q"
   },
   "source": [
    "## Loading testing dataset"
   ]
  },
  {
   "cell_type": "code",
   "execution_count": null,
   "metadata": {
    "executionInfo": {
     "elapsed": 6839,
     "status": "ok",
     "timestamp": 1617488537521,
     "user": {
      "displayName": "Diego Alberto Salinas Navarro",
      "photoUrl": "https://lh3.googleusercontent.com/a-/AOh14GhbwNYSSG6XI9Y6slEjlzh6crW1ac3ikTlzpuIUMw=s64",
      "userId": "17435702845671512196"
     },
     "user_tz": 360
    },
    "id": "Mg3cBlSNp6K9"
   },
   "outputs": [],
   "source": [
    "ver_folder_dataset = dset.ImageFolder(conf.testing_dir)\n",
    "ver_siamese_dataset = SiameseNetworkDataset(imageFolderDataset = ver_folder_dataset,\n",
    "                                        dset_csv = conf.dset_testing,\n",
    "                                        transform = transforms.Compose([transforms.Resize((224, 224)),\n",
    "                                                    transforms.ToTensor(), \n",
    "                                                    normalize]))\n",
    "ver_dataloader = DataLoader(ver_siamese_dataset, num_workers = 2, batch_size = 1, shuffle = True)"
   ]
  },
  {
   "cell_type": "markdown",
   "metadata": {
    "id": "pRWzF88iCLeG"
   },
   "source": [
    "## Creating tensors"
   ]
  },
  {
   "cell_type": "code",
   "execution_count": null,
   "metadata": {
    "executionInfo": {
     "elapsed": 6838,
     "status": "ok",
     "timestamp": 1617488537527,
     "user": {
      "displayName": "Diego Alberto Salinas Navarro",
      "photoUrl": "https://lh3.googleusercontent.com/a-/AOh14GhbwNYSSG6XI9Y6slEjlzh6crW1ac3ikTlzpuIUMw=s64",
      "userId": "17435702845671512196"
     },
     "user_tz": 360
    },
    "id": "W3j3ZI6tylaI"
   },
   "outputs": [],
   "source": [
    "def create_tensors(dataloader, dataset):\n",
    "    ids, tensors, favs = [], [], []\n",
    "    data = iter(dataloader)\n",
    "    for _ in range(len(dataset)):\n",
    "        id, img, fav = next(data)\n",
    "        ids.append(id.item())\n",
    "        tensors.append(img)\n",
    "        favs.append(fav.item())\n",
    "    df = pd.DataFrame(index = ids, data = {'tensors': tensors, 'favorites': favs})\n",
    "    return df   "
   ]
  },
  {
   "cell_type": "code",
   "execution_count": null,
   "metadata": {
    "executionInfo": {
     "elapsed": 54450,
     "status": "ok",
     "timestamp": 1617488585147,
     "user": {
      "displayName": "Diego Alberto Salinas Navarro",
      "photoUrl": "https://lh3.googleusercontent.com/a-/AOh14GhbwNYSSG6XI9Y6slEjlzh6crW1ac3ikTlzpuIUMw=s64",
      "userId": "17435702845671512196"
     },
     "user_tz": 360
    },
    "id": "t2W8ZhUCYR-1"
   },
   "outputs": [],
   "source": [
    "tr_tensors = create_tensors(tr_dataloader, tr_siamese_dataset)\n",
    "ver_tensors = create_tensors(ver_dataloader, ver_siamese_dataset)"
   ]
  },
  {
   "cell_type": "markdown",
   "metadata": {
    "id": "vu6Q60iIbPR9"
   },
   "source": [
    "## Likes prediction"
   ]
  },
  {
   "cell_type": "code",
   "execution_count": null,
   "metadata": {
    "executionInfo": {
     "elapsed": 54880,
     "status": "ok",
     "timestamp": 1617488585606,
     "user": {
      "displayName": "Diego Alberto Salinas Navarro",
      "photoUrl": "https://lh3.googleusercontent.com/a-/AOh14GhbwNYSSG6XI9Y6slEjlzh6crW1ac3ikTlzpuIUMw=s64",
      "userId": "17435702845671512196"
     },
     "user_tz": 360
    },
    "id": "zlUvIFOTcBdQ"
   },
   "outputs": [],
   "source": [
    "def likes_prediction(tr_tensors, ver_tensors, net, n):\n",
    "    ids, original, calculated = [], [], []\n",
    "    for i in ver_tensors.index:\n",
    "        likes = []\n",
    "        for j in tr_tensors.index:\n",
    "            fav = tr_tensors.loc[j]['favorites']\n",
    "            dif = net(ver_tensors.loc[i]['tensors'].cuda(), tr_tensors.loc[j]['tensors'].cuda())\n",
    "            likes.append([j, fav, abs(dif.item())])\n",
    "        likes.sort(key = itemgetter(2))\n",
    "        likes, y = likes[:n], 0\n",
    "        for x in likes:\n",
    "            y += x[1] \n",
    "        ids.append(likes)\n",
    "        original.append(ver_tensors.loc[i]['favorites'])\n",
    "        calculated.append(int(y/n))\n",
    "    df = pd.DataFrame(index = ver_tensors.index, data = {'ids': ids, 'original': original, 'calculated': calculated})  \n",
    "    return df"
   ]
  },
  {
   "cell_type": "code",
   "execution_count": null,
   "metadata": {
    "executionInfo": {
     "elapsed": 218845,
     "status": "ok",
     "timestamp": 1617488749578,
     "user": {
      "displayName": "Diego Alberto Salinas Navarro",
      "photoUrl": "https://lh3.googleusercontent.com/a-/AOh14GhbwNYSSG6XI9Y6slEjlzh6crW1ac3ikTlzpuIUMw=s64",
      "userId": "17435702845671512196"
     },
     "user_tz": 360
    },
    "id": "bxvAcn3blLSf"
   },
   "outputs": [],
   "source": [
    "alexnet_pred = likes_prediction(tr_tensors, ver_tensors, net, 5)"
   ]
  },
  {
   "cell_type": "code",
   "execution_count": null,
   "metadata": {
    "executionInfo": {
     "elapsed": 218839,
     "status": "ok",
     "timestamp": 1617488749580,
     "user": {
      "displayName": "Diego Alberto Salinas Navarro",
      "photoUrl": "https://lh3.googleusercontent.com/a-/AOh14GhbwNYSSG6XI9Y6slEjlzh6crW1ac3ikTlzpuIUMw=s64",
      "userId": "17435702845671512196"
     },
     "user_tz": 360
    },
    "id": "faJW146a9UtQ"
   },
   "outputs": [],
   "source": [
    "def ecm_rmse(tensors, likes_range):\n",
    "    ecm, n, p = 0, 0, 0\n",
    "    for i in tensors.index:\n",
    "        if tensors.loc[i]['original'] in range(likes_range[0], likes_range[1] + 1):\n",
    "            ecm += (tensors.loc[i]['original'] - tensors.loc[i]['calculated'])**2\n",
    "            if tensors.loc[i]['calculated'] >= 0.9*tensors.loc[i]['original'] and tensors.loc[i]['calculated'] <= 1.1*tensors.loc[i]['original']:\n",
    "                p += 1\n",
    "            n += 1\n",
    "    ecm = round(ecm/n, 2)\n",
    "    rmse = round(sqrt(ecm), 2)\n",
    "    positives = round(p/n, 2)\n",
    "    return 'Range({}, {})\\n ECM = {}, RMSE = {}, Acc = {}'.format(likes_range[0], likes_range[1], ecm, rmse, positives)"
   ]
  },
  {
   "cell_type": "code",
   "execution_count": null,
   "metadata": {
    "colab": {
     "base_uri": "https://localhost:8080/"
    },
    "executionInfo": {
     "elapsed": 219034,
     "status": "ok",
     "timestamp": 1617488749782,
     "user": {
      "displayName": "Diego Alberto Salinas Navarro",
      "photoUrl": "https://lh3.googleusercontent.com/a-/AOh14GhbwNYSSG6XI9Y6slEjlzh6crW1ac3ikTlzpuIUMw=s64",
      "userId": "17435702845671512196"
     },
     "user_tz": 360
    },
    "id": "3OyL27ly9o2F",
    "outputId": "412cd546-09e3-486e-bcbb-d946b959b061"
   },
   "outputs": [],
   "source": [
    "print(ecm_rmse(alexnet_pred, [750, 1000]))\n",
    "print(ecm_rmse(alexnet_pred, [1001, 1500]))\n",
    "print(ecm_rmse(alexnet_pred, [1501, 2000]))\n",
    "print(ecm_rmse(alexnet_pred, [2001, int(max(alexnet_pred['original']))]))"
   ]
  },
  {
   "cell_type": "markdown",
   "metadata": {
    "id": "MtxQTgtfkqeO"
   },
   "source": [
    "## Visual plot (memes and best match)"
   ]
  },
  {
   "cell_type": "code",
   "execution_count": null,
   "metadata": {
    "executionInfo": {
     "elapsed": 182,
     "status": "ok",
     "timestamp": 1617488770795,
     "user": {
      "displayName": "Diego Alberto Salinas Navarro",
      "photoUrl": "https://lh3.googleusercontent.com/a-/AOh14GhbwNYSSG6XI9Y6slEjlzh6crW1ac3ikTlzpuIUMw=s64",
      "userId": "17435702845671512196"
     },
     "user_tz": 360
    },
    "id": "ae65NWA6ko5F"
   },
   "outputs": [],
   "source": [
    "def plot_memes(likes_df, n):\n",
    "    images, j = [], 0\n",
    "    for i in likes_df.index:\n",
    "        route = \"./data/memes/testing/testing/{}.jpeg\".format(i)\n",
    "        images.append([route, likes_df.loc[i]['original']])\n",
    "        route = \"./data/memes/training/training/{}.jpeg\".format(likes_df.loc[i]['ids'][0][0])\n",
    "        images.append([route, likes_df.loc[i]['ids'][0][1], likes_df.loc[i]['ids'][0][2]])\n",
    "        j += 1\n",
    "        if j == n:\n",
    "            break\n",
    "    fig = plt.figure(figsize = (10, n * 5))\n",
    "    for i in range(n * 2):\n",
    "        plt.subplot(n, 2, i + 1)\n",
    "        read_img = mpimg.imread(images[i][0])\n",
    "        plt.imshow(read_img)\n",
    "        plt.axis('off')\n",
    "        if (i + 1) % 2 == 0:\n",
    "            plt.title('{} likes (Dif = {} likes)'.format(images[i][1], round(images[i][2], 2)))\n",
    "        else:\n",
    "            plt.title('{} likes'.format(images[i][1]))\n",
    "    plt.show()"
   ]
  },
  {
   "cell_type": "code",
   "execution_count": null,
   "metadata": {
    "colab": {
     "base_uri": "https://localhost:8080/",
     "height": 1000
    },
    "executionInfo": {
     "elapsed": 1692,
     "status": "ok",
     "timestamp": 1617488773718,
     "user": {
      "displayName": "Diego Alberto Salinas Navarro",
      "photoUrl": "https://lh3.googleusercontent.com/a-/AOh14GhbwNYSSG6XI9Y6slEjlzh6crW1ac3ikTlzpuIUMw=s64",
      "userId": "17435702845671512196"
     },
     "user_tz": 360
    },
    "id": "GqJs-liZrZ-s",
    "outputId": "174c3344-69a5-46f6-c4cc-ea95db27bebe"
   },
   "outputs": [],
   "source": [
    "plot_memes(alexnet_pred, 5)"
   ]
  }
 ],
 "metadata": {
  "accelerator": "GPU",
  "colab": {
   "collapsed_sections": [],
   "name": "AlexNet MSELoss (Testing).ipynb",
   "provenance": [
    {
     "file_id": "1hhOVs51NPny6oavkyW_-kl-dZ1WegryB",
     "timestamp": 1605606761545
    }
   ]
  },
  "hide_input": false,
  "kernelspec": {
   "display_name": "Python 3",
   "language": "python",
   "name": "python3"
  },
  "language_info": {
   "codemirror_mode": {
    "name": "ipython",
    "version": 3
   },
   "file_extension": ".py",
   "mimetype": "text/x-python",
   "name": "python",
   "nbconvert_exporter": "python",
   "pygments_lexer": "ipython3",
   "version": "3.8.5"
  }
 },
 "nbformat": 4,
 "nbformat_minor": 1
}
