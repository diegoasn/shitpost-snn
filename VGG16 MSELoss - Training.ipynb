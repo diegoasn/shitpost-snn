{
 "cells": [
  {
   "cell_type": "markdown",
   "metadata": {},
   "source": [
    "# Siamese Neural Network (SNN)"
   ]
  },
  {
   "cell_type": "markdown",
   "metadata": {},
   "source": [
    "## Importing libraries"
   ]
  },
  {
   "cell_type": "code",
   "execution_count": null,
   "metadata": {},
   "outputs": [],
   "source": [
    "%matplotlib inline\n",
    "import torchvision\n",
    "import torchvision.datasets as dset\n",
    "import torchvision.transforms as transforms\n",
    "import torchvision.models as models\n",
    "from torch.utils.data import DataLoader, Dataset\n",
    "import matplotlib.pyplot as plt\n",
    "import torchvision.utils\n",
    "import numpy as np\n",
    "import random\n",
    "import pandas as pd\n",
    "from PIL import Image\n",
    "import torch\n",
    "import PIL.ImageOps    \n",
    "import torch.nn as nn\n",
    "from torch import optim\n",
    "import torch.nn.functional as F"
   ]
  },
  {
   "cell_type": "markdown",
   "metadata": {},
   "source": [
    "## Configuration class"
   ]
  },
  {
   "cell_type": "code",
   "execution_count": null,
   "metadata": {},
   "outputs": [],
   "source": [
    "class Config:\n",
    "    \n",
    "    def __init__(self, training_dir, testing_dir, dir_training, dir_testing, batch_s, n_epochs):\n",
    "        self.training_dir = training_dir\n",
    "        self.testing_dir = testing_dir\n",
    "        self.dset_training = pd.read_csv(dir_training, index_col = 0)\n",
    "        self.dset_testing = pd.read_csv(dir_testing, index_col = 0)\n",
    "        self.train_batch_size = batch_s\n",
    "        self.train_number_epochs = n_epochs\n",
    "\n",
    "conf = Config(\"./data/memes/training/\", \n",
    "              \"./data/memes/testing/\",\n",
    "              \"./data/spb_training.csv\", \n",
    "              \"./data/spb_testing.csv\",\n",
    "              16, \n",
    "              150)"
   ]
  },
  {
   "cell_type": "markdown",
   "metadata": {},
   "source": [
    "## Dataset class"
   ]
  },
  {
   "cell_type": "code",
   "execution_count": null,
   "metadata": {},
   "outputs": [],
   "source": [
    "class SiameseNetworkDataset(Dataset):\n",
    "    \n",
    "    def __init__(self, imageFolderDataset, dset_csv, transform = None):\n",
    "        self.imageFolderDataset = imageFolderDataset\n",
    "        self.dset_csv = dset_csv\n",
    "        self.transform = transform\n",
    "        self.favs_list = sorted(self.dset_csv['favorites'].to_list())\n",
    "        self.max_fav = self.favs_list[-1]\n",
    "        self.min_fav = self.favs_list[0]\n",
    "        \n",
    "    def __getitem__(self, index):\n",
    "        img0_tuple = random.choice(self.imageFolderDataset.imgs)   \n",
    "        img0_id = self.obtain_id(img0_tuple[0])\n",
    "        fav0 = self.dset_csv.loc[img0_id]['favorites']\n",
    "        c = self.check_fav(fav0)\n",
    "        opt = random.choice([True, False])\n",
    "        while True:\n",
    "            img1_tuple = random.choice(self.imageFolderDataset.imgs)\n",
    "            while img1_tuple == img0_tuple:\n",
    "                img1_tuple = random.choice(self.imageFolderDataset.imgs)\n",
    "            img1_id = self.obtain_id(img1_tuple[0])\n",
    "            fav1 = self.dset_csv.loc[img1_id]['favorites']\n",
    "            if self.classify(fav0, fav1, c, opt):\n",
    "                break\n",
    "        img0, img1 = Image.open(img0_tuple[0]), Image.open(img1_tuple[0])\n",
    "        img0, img1 = img0.convert(\"RGB\"), img1.convert(\"RGB\")\n",
    "        if self.transform is not None:\n",
    "            img0 = self.transform(img0)\n",
    "            img1 = self.transform(img1)\n",
    "        return img0, img1, torch.from_numpy(np.array([fav0 - fav1], dtype = np.float32))\n",
    "    \n",
    "    def __len__(self):\n",
    "        return len(self.imageFolderDataset.imgs)\n",
    "\n",
    "    def obtain_id(self, img_route):\n",
    "        return int(img_route.split(\"/\")[-1].split(\".\")[0])\n",
    "    \n",
    "    def check_fav(self, fav):\n",
    "        fav_index = self.favs_list.index(fav)\n",
    "        if fav == self.min_fav or fav == self.max_fav:\n",
    "            return False\n",
    "        if abs(self.favs_list[fav_index - 1] - fav) < int(fav/10) or abs(self.favs_list[fav_index + 1] - fav) < int(fav/10):\n",
    "            if self.min_fav < fav - int(fav/10) or self.max_fav > fav + int(fav/10):\n",
    "                return True\n",
    "        return False\n",
    "    \n",
    "    def classify(self, fav0, fav1, condition, option):\n",
    "        dif = fav0 - fav1\n",
    "        if condition:\n",
    "            if option:\n",
    "                if abs(dif) < int(fav0/10):\n",
    "                    return True\n",
    "            else:\n",
    "                if abs(dif) >= int(fav0/10):\n",
    "                    return True\n",
    "        else:\n",
    "            return True\n",
    "        return False"
   ]
  },
  {
   "cell_type": "code",
   "execution_count": null,
   "metadata": {},
   "outputs": [],
   "source": [
    "folder_dataset = dset.ImageFolder(conf.training_dir)\n",
    "normalize = transforms.Normalize(mean = [0.485, 0.456, 0.406],\n",
    "                                 std = [0.229, 0.224, 0.225])\n",
    "siamese_dataset = SiameseNetworkDataset(imageFolderDataset = folder_dataset,\n",
    "                                        dset_csv = conf.dset_training,\n",
    "                                        transform = transforms.Compose([transforms.Resize((224, 224)),\n",
    "                                                    transforms.ToTensor(), \n",
    "                                                    normalize]))"
   ]
  },
  {
   "cell_type": "markdown",
   "metadata": {},
   "source": [
    "## Siamese Neural Network definition"
   ]
  },
  {
   "cell_type": "code",
   "execution_count": null,
   "metadata": {},
   "outputs": [],
   "source": [
    "class SiameseNetwork(nn.Module):\n",
    "    \n",
    "    def __init__(self, use_pretrained, feature_extracting, num_classes):\n",
    "        super(SiameseNetwork, self).__init__()\n",
    "        self.model_ft = models.vgg16(pretrained = use_pretrained)\n",
    "        self.set_parameter_requires_grad(self.model_ft, feature_extracting)\n",
    "        num_ftrs = self.model_ft.classifier[0].in_features\n",
    "        self.model_ft = nn.Sequential(*list(self.model_ft.children())[:-1])\n",
    "        self.fc_mse = nn.Sequential(\n",
    "            nn.Dropout(),\n",
    "            nn.Linear(num_ftrs * 2, num_classes, bias = True),\n",
    "            nn.ReLU(inplace = True),\n",
    "            nn.Linear(num_classes, 1, bias = True)\n",
    "        )\n",
    "\n",
    "    def set_parameter_requires_grad(self, model, feature_extracting):\n",
    "        if feature_extracting:\n",
    "            for param in model.parameters():\n",
    "                param.requires_grad = False\n",
    "\n",
    "    def forward_once(self, x):\n",
    "        output = self.model_ft(x)\n",
    "        return output.view(output.size(0), -1)\n",
    "\n",
    "    def forward(self, input1, input2):\n",
    "        output1 = self.forward_once(input1)\n",
    "        output2 = self.forward_once(input2)\n",
    "        output = torch.cat((output1, output2), 1)\n",
    "        output = self.fc_mse(output)\n",
    "        return output"
   ]
  },
  {
   "cell_type": "markdown",
   "metadata": {},
   "source": [
    "## Training"
   ]
  },
  {
   "cell_type": "code",
   "execution_count": null,
   "metadata": {},
   "outputs": [],
   "source": [
    "train_dataloader = DataLoader(siamese_dataset,\n",
    "                              shuffle = True,\n",
    "                              num_workers = 2,\n",
    "                              batch_size = conf.train_batch_size)"
   ]
  },
  {
   "cell_type": "code",
   "execution_count": null,
   "metadata": {},
   "outputs": [],
   "source": [
    "net = SiameseNetwork(True, True, 512).cuda()\n",
    "criterion = nn.MSELoss().cuda()\n",
    "optimizer = optim.Adam(net.parameters(), lr = 1e-4)\n",
    "net.train()"
   ]
  },
  {
   "cell_type": "code",
   "execution_count": null,
   "metadata": {},
   "outputs": [],
   "source": [
    "for name, param in net.named_parameters():\n",
    "    if param.requires_grad == True:\n",
    "        print(name)"
   ]
  },
  {
   "cell_type": "code",
   "execution_count": null,
   "metadata": {},
   "outputs": [],
   "source": [
    "counter = []\n",
    "loss_history = [] \n",
    "iteration_number = 0"
   ]
  },
  {
   "cell_type": "code",
   "execution_count": null,
   "metadata": {},
   "outputs": [],
   "source": [
    "for epoch in range(0, conf.train_number_epochs):\n",
    "    for i, data in enumerate(train_dataloader, 0):\n",
    "        img0, img1, dif = data\n",
    "        img0, img1, dif = img0.cuda(), img1.cuda(), dif.cuda()\n",
    "        optimizer.zero_grad()\n",
    "        output = net(img0, img1)\n",
    "        loss = criterion(output, dif)\n",
    "        loss.backward()\n",
    "        optimizer.step()\n",
    "    print(\"Epoch number {}\\n Current loss {}\\n\".format(epoch, loss.item()))\n",
    "    iteration_number += 1\n",
    "    counter.append(iteration_number)\n",
    "    loss_history.append(loss.item())"
   ]
  },
  {
   "cell_type": "code",
   "execution_count": null,
   "metadata": {},
   "outputs": [],
   "source": [
    "fig = plt.figure(figsize = (20, 10))\n",
    "plt.plot(counter, loss_history, 'r')\n",
    "plt.title('VGG16')\n",
    "plt.xlabel('Epochs')\n",
    "plt.ylabel('Loss')\n",
    "plt.rc('font', size = 15)\n",
    "plt.grid()\n",
    "plt.show()"
   ]
  },
  {
   "cell_type": "markdown",
   "metadata": {},
   "source": [
    "## Saving model"
   ]
  },
  {
   "cell_type": "code",
   "execution_count": null,
   "metadata": {},
   "outputs": [],
   "source": [
    "torch.save(net.state_dict(), \"./models/vgg16_mse.zip\")\n",
    "print('Saved.')"
   ]
  }
 ],
 "metadata": {
  "kernelspec": {
   "display_name": "Python 3",
   "language": "python",
   "name": "python3"
  },
  "language_info": {
   "codemirror_mode": {
    "name": "ipython",
    "version": 3
   },
   "file_extension": ".py",
   "mimetype": "text/x-python",
   "name": "python",
   "nbconvert_exporter": "python",
   "pygments_lexer": "ipython3",
   "version": "3.8.5"
  }
 },
 "nbformat": 4,
 "nbformat_minor": 4
}
