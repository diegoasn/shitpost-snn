{
 "cells": [
  {
   "cell_type": "markdown",
   "metadata": {
    "id": "lANElZ9uX43P"
   },
   "source": [
    "# Siamese Neural Network (Testing)"
   ]
  },
  {
   "cell_type": "markdown",
   "metadata": {
    "id": "F6viiDEnX43X"
   },
   "source": [
    "## Importing libraries"
   ]
  },
  {
   "cell_type": "code",
   "execution_count": null,
   "metadata": {
    "executionInfo": {
     "elapsed": 17392,
     "status": "ok",
     "timestamp": 1617485583196,
     "user": {
      "displayName": "Diego Alberto Salinas Navarro",
      "photoUrl": "https://lh3.googleusercontent.com/a-/AOh14GhbwNYSSG6XI9Y6slEjlzh6crW1ac3ikTlzpuIUMw=s64",
      "userId": "17435702845671512196"
     },
     "user_tz": 360
    },
    "id": "jCp51VCKX43d"
   },
   "outputs": [],
   "source": [
    "import torchvision\n",
    "import torchvision.datasets as dset\n",
    "import torchvision.transforms as transforms\n",
    "import torchvision.models as models\n",
    "from torch.utils.data import DataLoader, Dataset\n",
    "import matplotlib.pyplot as plt\n",
    "import matplotlib.image as mpimg\n",
    "import torchvision.utils\n",
    "import numpy as np\n",
    "import random\n",
    "import pandas as pd\n",
    "from PIL import Image\n",
    "import torch\n",
    "import PIL.ImageOps    \n",
    "import torch.nn as nn\n",
    "from torch import optim\n",
    "import torch.nn.functional as F\n",
    "from math import sqrt\n",
    "from operator import itemgetter\n",
    "from sklearn import decomposition\n",
    "from sklearn.preprocessing import StandardScaler\n",
    "from sklearn.manifold import TSNE\n",
    "import umap"
   ]
  },
  {
   "cell_type": "markdown",
   "metadata": {
    "id": "kWXWHfolX44g"
   },
   "source": [
    "## Configuration class"
   ]
  },
  {
   "cell_type": "code",
   "execution_count": null,
   "metadata": {
    "executionInfo": {
     "elapsed": 18515,
     "status": "ok",
     "timestamp": 1617485584345,
     "user": {
      "displayName": "Diego Alberto Salinas Navarro",
      "photoUrl": "https://lh3.googleusercontent.com/a-/AOh14GhbwNYSSG6XI9Y6slEjlzh6crW1ac3ikTlzpuIUMw=s64",
      "userId": "17435702845671512196"
     },
     "user_tz": 360
    },
    "id": "SwXLG_4mX44l"
   },
   "outputs": [],
   "source": [
    "class Config:\n",
    "    \n",
    "    def __init__(self, training_dir, testing_dir, dir_training, dir_testing):\n",
    "        self.training_dir = training_dir\n",
    "        self.testing_dir = testing_dir\n",
    "        self.dset_training = pd.read_csv(dir_training, index_col = 0)\n",
    "        self.dset_testing = pd.read_csv(dir_testing, index_col = 0)\n",
    "\n",
    "conf = Config(\"./data/memes/training/\", \n",
    "              \"./data/memes/testing/\",\n",
    "              \"./data/spb_training.csv\", \n",
    "              \"./data/spb_testing.csv\")\n",
    "\n",
    "normalize = transforms.Normalize(mean = [0.485, 0.456, 0.406],\n",
    "                                 std = [0.229, 0.224, 0.225])"
   ]
  },
  {
   "cell_type": "markdown",
   "metadata": {
    "id": "JqJbLmIg4z0D"
   },
   "source": [
    "## Siamese Neural Network definition"
   ]
  },
  {
   "cell_type": "code",
   "execution_count": null,
   "metadata": {
    "executionInfo": {
     "elapsed": 18509,
     "status": "ok",
     "timestamp": 1617485584347,
     "user": {
      "displayName": "Diego Alberto Salinas Navarro",
      "photoUrl": "https://lh3.googleusercontent.com/a-/AOh14GhbwNYSSG6XI9Y6slEjlzh6crW1ac3ikTlzpuIUMw=s64",
      "userId": "17435702845671512196"
     },
     "user_tz": 360
    },
    "id": "QBl4D4a3X46S"
   },
   "outputs": [],
   "source": [
    "class SiameseNetwork_ResNet(nn.Module):\n",
    "    \n",
    "    def __init__(self, use_pretrained, num_classes):\n",
    "        super(SiameseNetwork_ResNet, self).__init__()\n",
    "        self.model_ft = models.resnet18(pretrained = use_pretrained)\n",
    "        num_ftrs = self.model_ft.fc.in_features\n",
    "        self.model_ft.fc = nn.Linear(num_ftrs, num_classes)\n",
    "\n",
    "    def forward_once(self, x):\n",
    "        output = self.model_ft(x)\n",
    "        return output\n",
    "\n",
    "    def forward(self, input):\n",
    "        output = self.forward_once(input)\n",
    "        return output"
   ]
  },
  {
   "cell_type": "markdown",
   "metadata": {
    "id": "3kTH1z8hoY-U"
   },
   "source": [
    "## Loading datasets"
   ]
  },
  {
   "cell_type": "code",
   "execution_count": null,
   "metadata": {
    "executionInfo": {
     "elapsed": 18505,
     "status": "ok",
     "timestamp": 1617485584350,
     "user": {
      "displayName": "Diego Alberto Salinas Navarro",
      "photoUrl": "https://lh3.googleusercontent.com/a-/AOh14GhbwNYSSG6XI9Y6slEjlzh6crW1ac3ikTlzpuIUMw=s64",
      "userId": "17435702845671512196"
     },
     "user_tz": 360
    },
    "id": "r0h1SrmKWezX"
   },
   "outputs": [],
   "source": [
    "class SiameseNetworkDataset(Dataset):\n",
    "    \n",
    "    def __init__(self, imageFolderDataset, dset_csv, transform = None):\n",
    "        self.imageFolderDataset = imageFolderDataset\n",
    "        self.dset_csv = dset_csv\n",
    "        self.transform = transform\n",
    "        \n",
    "    def __getitem__(self, index):  \n",
    "        img_tuple = self.imageFolderDataset.imgs[index] \n",
    "        img_id = self.obtain_id(img_tuple[0])\n",
    "        img_fav = self.dset_csv.loc[img_id]['favorites']\n",
    "        img_tensor = Image.open(img_tuple[0])\n",
    "        img_tensor = img_tensor.convert(\"RGB\")\n",
    "        if self.transform is not None:\n",
    "            img_tensor = self.transform(img_tensor)\n",
    "        return img_id, img_tensor, img_fav\n",
    "\n",
    "    def __len__(self):\n",
    "        return len(self.imageFolderDataset.imgs)\n",
    "\n",
    "    def obtain_id(self, img_route):\n",
    "        return int(img_route.split(\"/\")[-1].split(\".\")[0])"
   ]
  },
  {
   "cell_type": "code",
   "execution_count": null,
   "metadata": {
    "executionInfo": {
     "elapsed": 18499,
     "status": "ok",
     "timestamp": 1617485584351,
     "user": {
      "displayName": "Diego Alberto Salinas Navarro",
      "photoUrl": "https://lh3.googleusercontent.com/a-/AOh14GhbwNYSSG6XI9Y6slEjlzh6crW1ac3ikTlzpuIUMw=s64",
      "userId": "17435702845671512196"
     },
     "user_tz": 360
    },
    "id": "89sY6nnxX45U"
   },
   "outputs": [],
   "source": [
    "tr_folder_dataset = dset.ImageFolder(conf.training_dir)\n",
    "tr_siamese_dataset = SiameseNetworkDataset(imageFolderDataset = tr_folder_dataset,\n",
    "                                        dset_csv = conf.dset_training,\n",
    "                                        transform = transforms.Compose([transforms.Resize((224, 224)),\n",
    "                                                    transforms.ToTensor(), \n",
    "                                                    normalize]))\n",
    "tr_dataloader = DataLoader(tr_siamese_dataset, num_workers = 2, batch_size = 1, shuffle = True)"
   ]
  },
  {
   "cell_type": "code",
   "execution_count": null,
   "metadata": {
    "executionInfo": {
     "elapsed": 18492,
     "status": "ok",
     "timestamp": 1617485584352,
     "user": {
      "displayName": "Diego Alberto Salinas Navarro",
      "photoUrl": "https://lh3.googleusercontent.com/a-/AOh14GhbwNYSSG6XI9Y6slEjlzh6crW1ac3ikTlzpuIUMw=s64",
      "userId": "17435702845671512196"
     },
     "user_tz": 360
    },
    "id": "Mg3cBlSNp6K9"
   },
   "outputs": [],
   "source": [
    "ver_folder_dataset = dset.ImageFolder(conf.testing_dir)\n",
    "ver_siamese_dataset = SiameseNetworkDataset(imageFolderDataset = ver_folder_dataset,\n",
    "                                        dset_csv = conf.dset_testing,\n",
    "                                        transform = transforms.Compose([transforms.Resize((224, 224)),\n",
    "                                                    transforms.ToTensor(), \n",
    "                                                    normalize]))\n",
    "ver_dataloader = DataLoader(ver_siamese_dataset, num_workers = 2, batch_size = 1, shuffle = True)"
   ]
  },
  {
   "cell_type": "markdown",
   "metadata": {
    "id": "JA5Ae9mM4nma"
   },
   "source": [
    "## Creating tensors"
   ]
  },
  {
   "cell_type": "code",
   "execution_count": null,
   "metadata": {
    "executionInfo": {
     "elapsed": 18480,
     "status": "ok",
     "timestamp": 1617485584353,
     "user": {
      "displayName": "Diego Alberto Salinas Navarro",
      "photoUrl": "https://lh3.googleusercontent.com/a-/AOh14GhbwNYSSG6XI9Y6slEjlzh6crW1ac3ikTlzpuIUMw=s64",
      "userId": "17435702845671512196"
     },
     "user_tz": 360
    },
    "id": "W3j3ZI6tylaI"
   },
   "outputs": [],
   "source": [
    "def create_tensors(dataloader, dataset, net):\n",
    "    ids, tensors, favs, imgs = [], [], [], []\n",
    "    data = iter(dataloader)\n",
    "    for _ in range(len(dataset)):\n",
    "        id, img, fav = next(data)\n",
    "        ids.append(id.item())\n",
    "        img = net(img.cuda())\n",
    "        tensors.append(img.cpu().detach())\n",
    "        imgs.append(img.cpu().detach().numpy()[0])\n",
    "        favs.append(fav.item())\n",
    "    df = pd.DataFrame(index = ids, data = {'tensors': tensors, 'vectors': imgs, 'favorites': favs})\n",
    "    return df   "
   ]
  },
  {
   "cell_type": "markdown",
   "metadata": {
    "id": "o8HW5cv54mCN"
   },
   "source": [
    "## Dimensionality reduction"
   ]
  },
  {
   "cell_type": "code",
   "execution_count": null,
   "metadata": {
    "executionInfo": {
     "elapsed": 18471,
     "status": "ok",
     "timestamp": 1617485584354,
     "user": {
      "displayName": "Diego Alberto Salinas Navarro",
      "photoUrl": "https://lh3.googleusercontent.com/a-/AOh14GhbwNYSSG6XI9Y6slEjlzh6crW1ac3ikTlzpuIUMw=s64",
      "userId": "17435702845671512196"
     },
     "user_tz": 360
    },
    "id": "O0WG__-e4tX7"
   },
   "outputs": [],
   "source": [
    "def reduce_dimensions(tensors):\n",
    "    reducer = umap.UMAP()\n",
    "    meme_data = tensors['vectors'].to_list()\n",
    "    #UMAP\n",
    "    scaled_meme_data = StandardScaler().fit_transform(meme_data)\n",
    "    meme_umap = reducer.fit_transform(scaled_meme_data)\n",
    "    #TSNE\n",
    "    meme_tsne = TSNE(n_components = 2).fit_transform(meme_data)\n",
    "    return meme_umap, meme_tsne"
   ]
  },
  {
   "cell_type": "markdown",
   "metadata": {
    "id": "lfdebWT5-MGW"
   },
   "source": [
    "## Plotting"
   ]
  },
  {
   "cell_type": "code",
   "execution_count": null,
   "metadata": {
    "executionInfo": {
     "elapsed": 18464,
     "status": "ok",
     "timestamp": 1617485584355,
     "user": {
      "displayName": "Diego Alberto Salinas Navarro",
      "photoUrl": "https://lh3.googleusercontent.com/a-/AOh14GhbwNYSSG6XI9Y6slEjlzh6crW1ac3ikTlzpuIUMw=s64",
      "userId": "17435702845671512196"
     },
     "user_tz": 360
    },
    "id": "rXLmIVr4mmd0"
   },
   "outputs": [],
   "source": [
    "def plot_tensors(tensors, umap_v, tsne_v, plot_title):\n",
    "    x1, x2, y1, y2, colors, sizes = [], [], [], [], [], []\n",
    "    max_fav = max(tensors['favorites'].to_list())\n",
    "    for i in range(len(tensors.index)):\n",
    "        if tensors['favorites'].iloc[i] < max_fav:\n",
    "            x1.append(umap_v[i][0])\n",
    "            x2.append(tsne_v[i][0])\n",
    "            y1.append(umap_v[i][1])\n",
    "            y2.append(tsne_v[i][1])\n",
    "            colors.append(tensors['favorites'].iloc[i])\n",
    "            sizes.append((tensors['favorites'].iloc[i]/max_fav) * 500)\n",
    "    colors = np.array(colors)\n",
    "    sizes = np.array(sizes)\n",
    "    fig = plt.figure(figsize = (20, 10))\n",
    "    plt.subplot(1, 2, 1)\n",
    "    plt.scatter(x1, y1, c = colors, s = sizes, alpha = 0.5, cmap = 'viridis_r')\n",
    "    plt.title('UMAP')\n",
    "    plt.colorbar(label = 'Número de likes')\n",
    "    plt.subplot(1, 2, 2)\n",
    "    plt.scatter(x2, y2, c = colors, s = sizes, alpha = 0.5, cmap = 'viridis_r')\n",
    "    plt.title('TSNE')\n",
    "    plt.colorbar(label = 'Número de likes')\n",
    "    plt.suptitle(plot_title, fontsize = 30)\n",
    "    plt.show()"
   ]
  },
  {
   "cell_type": "markdown",
   "metadata": {
    "id": "OrOY5YSk9B8u"
   },
   "source": [
    "## Likes prediction"
   ]
  },
  {
   "cell_type": "code",
   "execution_count": null,
   "metadata": {
    "executionInfo": {
     "elapsed": 18454,
     "status": "ok",
     "timestamp": 1617485584356,
     "user": {
      "displayName": "Diego Alberto Salinas Navarro",
      "photoUrl": "https://lh3.googleusercontent.com/a-/AOh14GhbwNYSSG6XI9Y6slEjlzh6crW1ac3ikTlzpuIUMw=s64",
      "userId": "17435702845671512196"
     },
     "user_tz": 360
    },
    "id": "HRmC7rsNrC6O"
   },
   "outputs": [],
   "source": [
    "def dist(t0, t1, mode):\n",
    "    if mode == 0:\n",
    "        distance = 1 - F.cosine_similarity(t0, t1, dim = 1)\n",
    "    else:\n",
    "        distance = F.pairwise_distance(t0, t1)\n",
    "    return distance.item()"
   ]
  },
  {
   "cell_type": "code",
   "execution_count": null,
   "metadata": {
    "executionInfo": {
     "elapsed": 18444,
     "status": "ok",
     "timestamp": 1617485584357,
     "user": {
      "displayName": "Diego Alberto Salinas Navarro",
      "photoUrl": "https://lh3.googleusercontent.com/a-/AOh14GhbwNYSSG6XI9Y6slEjlzh6crW1ac3ikTlzpuIUMw=s64",
      "userId": "17435702845671512196"
     },
     "user_tz": 360
    },
    "id": "LViX9VL9_6AF"
   },
   "outputs": [],
   "source": [
    "def likes_prediction(tr_tensors, ver_tensors, net, mode, n):\n",
    "    ids, original, calculated = [], [], []\n",
    "    for i in ver_tensors.index:\n",
    "        likes = []\n",
    "        for j in tr_tensors.index:\n",
    "            fav = tr_tensors.loc[j]['favorites']\n",
    "            dif = dist(ver_tensors.loc[i]['tensors'], tr_tensors.loc[j]['tensors'], mode)\n",
    "            likes.append([j, fav, dif])\n",
    "        likes.sort(key = itemgetter(2))\n",
    "        likes, y = likes[:n], 0\n",
    "        for x in likes:\n",
    "            y += x[1] \n",
    "        ids.append(likes)\n",
    "        original.append(ver_tensors.loc[i]['favorites'])\n",
    "        calculated.append(int(y/n))\n",
    "    df = pd.DataFrame(index = ver_tensors.index, data = {'ids': ids, 'original': original, 'calculated': calculated})  \n",
    "    return df   "
   ]
  },
  {
   "cell_type": "markdown",
   "metadata": {
    "id": "FRKTUDm6Gxil"
   },
   "source": [
    "## ECM and RMSE"
   ]
  },
  {
   "cell_type": "code",
   "execution_count": null,
   "metadata": {
    "executionInfo": {
     "elapsed": 18436,
     "status": "ok",
     "timestamp": 1617485584358,
     "user": {
      "displayName": "Diego Alberto Salinas Navarro",
      "photoUrl": "https://lh3.googleusercontent.com/a-/AOh14GhbwNYSSG6XI9Y6slEjlzh6crW1ac3ikTlzpuIUMw=s64",
      "userId": "17435702845671512196"
     },
     "user_tz": 360
    },
    "id": "jxHkvGHc0bi7"
   },
   "outputs": [],
   "source": [
    "def ecm_rmse(tensors, likes_range):\n",
    "    ecm, n, p = 0, 0, 0\n",
    "    for i in tensors.index:\n",
    "        if tensors.loc[i]['original'] in range(likes_range[0], likes_range[1] + 1):\n",
    "            ecm += (tensors.loc[i]['original'] - tensors.loc[i]['calculated'])**2\n",
    "            if tensors.loc[i]['calculated'] >= 0.9*tensors.loc[i]['original'] and tensors.loc[i]['calculated'] <= 1.1*tensors.loc[i]['original']:\n",
    "                p += 1\n",
    "            n += 1\n",
    "    ecm = round(ecm/n, 2)\n",
    "    rmse = round(sqrt(ecm), 2)\n",
    "    positives = round(p/n, 2)\n",
    "    return 'Range({}, {})\\n ECM = {}, RMSE = {}, Acc = {}'.format(likes_range[0], likes_range[1], ecm, rmse, positives)"
   ]
  },
  {
   "cell_type": "markdown",
   "metadata": {
    "id": "MtxQTgtfkqeO"
   },
   "source": [
    "## Visual (Meme and best match)"
   ]
  },
  {
   "cell_type": "code",
   "execution_count": null,
   "metadata": {
    "executionInfo": {
     "elapsed": 18431,
     "status": "ok",
     "timestamp": 1617485584360,
     "user": {
      "displayName": "Diego Alberto Salinas Navarro",
      "photoUrl": "https://lh3.googleusercontent.com/a-/AOh14GhbwNYSSG6XI9Y6slEjlzh6crW1ac3ikTlzpuIUMw=s64",
      "userId": "17435702845671512196"
     },
     "user_tz": 360
    },
    "id": "ae65NWA6ko5F"
   },
   "outputs": [],
   "source": [
    "def plot_memes(likes_df, x, mode, n):\n",
    "    images, j = [], 0\n",
    "    for i in x:\n",
    "        route = \"./data/memes/testing/testing/{}.jpeg\".format(i)\n",
    "        images.append([route, likes_df.loc[i]['original']])\n",
    "        route = \"./data/memes/training/training/{}.jpeg\".format(likes_df.loc[i]['ids'][0][0])\n",
    "        images.append([route, likes_df.loc[i]['ids'][0][1], likes_df.loc[i]['ids'][0][2]])\n",
    "        j += 1\n",
    "        if j == n:\n",
    "            break\n",
    "    fig = plt.figure(figsize = (10, n * 5))\n",
    "    for i in range(n * 2):\n",
    "        plt.subplot(n, 2, i + 1)\n",
    "        read_img = mpimg.imread(images[i][0])\n",
    "        plt.imshow(read_img)\n",
    "        plt.axis('off')\n",
    "        if (i + 1) % 2 == 0:\n",
    "            if mode == 0:\n",
    "                plt.title('{} likes (Dist = {})'.format(images[i][1], round(1 - images[i][2], 2)))\n",
    "            else:\n",
    "                plt.title('{} likes (Dist = {})'.format(images[i][1], round(images[i][2], 2)))\n",
    "        else:\n",
    "            plt.title('{} likes'.format(images[i][1]))\n",
    "    plt.show()"
   ]
  },
  {
   "cell_type": "markdown",
   "metadata": {
    "id": "yOx8Ey7V0qt-"
   },
   "source": [
    "## Cosine similarity"
   ]
  },
  {
   "cell_type": "code",
   "execution_count": null,
   "metadata": {
    "colab": {
     "base_uri": "https://localhost:8080/"
    },
    "executionInfo": {
     "elapsed": 22466,
     "status": "ok",
     "timestamp": 1617485588403,
     "user": {
      "displayName": "Diego Alberto Salinas Navarro",
      "photoUrl": "https://lh3.googleusercontent.com/a-/AOh14GhbwNYSSG6XI9Y6slEjlzh6crW1ac3ikTlzpuIUMw=s64",
      "userId": "17435702845671512196"
     },
     "user_tz": 360
    },
    "id": "AtDtP9Yf48MB",
    "outputId": "eae9f28a-7219-496d-ad0b-91e12fd988a5"
   },
   "outputs": [],
   "source": [
    "net = SiameseNetwork_ResNet(True, 512).cuda()\n",
    "net.load_state_dict(torch.load(\"./models/resnet_simcos.zip\"))\n",
    "net.eval()"
   ]
  },
  {
   "cell_type": "code",
   "execution_count": null,
   "metadata": {
    "executionInfo": {
     "elapsed": 29556,
     "status": "ok",
     "timestamp": 1617485595504,
     "user": {
      "displayName": "Diego Alberto Salinas Navarro",
      "photoUrl": "https://lh3.googleusercontent.com/a-/AOh14GhbwNYSSG6XI9Y6slEjlzh6crW1ac3ikTlzpuIUMw=s64",
      "userId": "17435702845671512196"
     },
     "user_tz": 360
    },
    "id": "t2W8ZhUCYR-1"
   },
   "outputs": [],
   "source": [
    "resnet_tr_tensors_cos = create_tensors(tr_dataloader, tr_siamese_dataset, net)"
   ]
  },
  {
   "cell_type": "code",
   "execution_count": null,
   "metadata": {
    "executionInfo": {
     "elapsed": 31352,
     "status": "ok",
     "timestamp": 1617485597307,
     "user": {
      "displayName": "Diego Alberto Salinas Navarro",
      "photoUrl": "https://lh3.googleusercontent.com/a-/AOh14GhbwNYSSG6XI9Y6slEjlzh6crW1ac3ikTlzpuIUMw=s64",
      "userId": "17435702845671512196"
     },
     "user_tz": 360
    },
    "id": "uQ2GAiZd8qpD"
   },
   "outputs": [],
   "source": [
    "resnet_ver_tensors_cos = create_tensors(ver_dataloader, ver_siamese_dataset, net)"
   ]
  },
  {
   "cell_type": "code",
   "execution_count": null,
   "metadata": {
    "executionInfo": {
     "elapsed": 43048,
     "status": "ok",
     "timestamp": 1617485609011,
     "user": {
      "displayName": "Diego Alberto Salinas Navarro",
      "photoUrl": "https://lh3.googleusercontent.com/a-/AOh14GhbwNYSSG6XI9Y6slEjlzh6crW1ac3ikTlzpuIUMw=s64",
      "userId": "17435702845671512196"
     },
     "user_tz": 360
    },
    "id": "iBMJ3YazYyLI"
   },
   "outputs": [],
   "source": [
    "resnet_tr_umap_cos, resnet_tr_tsne_cos = reduce_dimensions(resnet_tr_tensors_cos)"
   ]
  },
  {
   "cell_type": "code",
   "execution_count": null,
   "metadata": {
    "executionInfo": {
     "elapsed": 46586,
     "status": "ok",
     "timestamp": 1617485612556,
     "user": {
      "displayName": "Diego Alberto Salinas Navarro",
      "photoUrl": "https://lh3.googleusercontent.com/a-/AOh14GhbwNYSSG6XI9Y6slEjlzh6crW1ac3ikTlzpuIUMw=s64",
      "userId": "17435702845671512196"
     },
     "user_tz": 360
    },
    "id": "8yMigWIm94B4"
   },
   "outputs": [],
   "source": [
    "resnet_ver_umap_cos, resnet_ver_tsne_cos = reduce_dimensions(resnet_ver_tensors_cos)"
   ]
  },
  {
   "cell_type": "code",
   "execution_count": null,
   "metadata": {
    "colab": {
     "base_uri": "https://localhost:8080/",
     "height": 663
    },
    "executionInfo": {
     "elapsed": 47591,
     "status": "ok",
     "timestamp": 1617485613571,
     "user": {
      "displayName": "Diego Alberto Salinas Navarro",
      "photoUrl": "https://lh3.googleusercontent.com/a-/AOh14GhbwNYSSG6XI9Y6slEjlzh6crW1ac3ikTlzpuIUMw=s64",
      "userId": "17435702845671512196"
     },
     "user_tz": 360
    },
    "id": "GlQt81lMlcUg",
    "outputId": "ea8388f7-6e02-49e6-da25-73a8b6db0556"
   },
   "outputs": [],
   "source": [
    "plot_tensors(resnet_tr_tensors_cos, resnet_tr_umap_cos, resnet_tr_tsne_cos, \"Training dataset\")"
   ]
  },
  {
   "cell_type": "code",
   "execution_count": null,
   "metadata": {
    "colab": {
     "base_uri": "https://localhost:8080/",
     "height": 663
    },
    "executionInfo": {
     "elapsed": 47576,
     "status": "ok",
     "timestamp": 1617485613575,
     "user": {
      "displayName": "Diego Alberto Salinas Navarro",
      "photoUrl": "https://lh3.googleusercontent.com/a-/AOh14GhbwNYSSG6XI9Y6slEjlzh6crW1ac3ikTlzpuIUMw=s64",
      "userId": "17435702845671512196"
     },
     "user_tz": 360
    },
    "id": "EJIPJMIy-yyj",
    "outputId": "8aab0a18-663f-4fba-cb49-95e9e7b9e272"
   },
   "outputs": [],
   "source": [
    "plot_tensors(resnet_ver_tensors_cos, resnet_ver_umap_cos, resnet_ver_tsne_cos, \"Testing dataset\")"
   ]
  },
  {
   "cell_type": "code",
   "execution_count": null,
   "metadata": {
    "executionInfo": {
     "elapsed": 71455,
     "status": "ok",
     "timestamp": 1617485637476,
     "user": {
      "displayName": "Diego Alberto Salinas Navarro",
      "photoUrl": "https://lh3.googleusercontent.com/a-/AOh14GhbwNYSSG6XI9Y6slEjlzh6crW1ac3ikTlzpuIUMw=s64",
      "userId": "17435702845671512196"
     },
     "user_tz": 360
    },
    "id": "5YmKxIs_g0sF"
   },
   "outputs": [],
   "source": [
    "resnet_cos_likes = likes_prediction(resnet_tr_tensors_cos, resnet_ver_tensors_cos, net, 0, 10)"
   ]
  },
  {
   "cell_type": "code",
   "execution_count": null,
   "metadata": {
    "colab": {
     "base_uri": "https://localhost:8080/"
    },
    "executionInfo": {
     "elapsed": 71445,
     "status": "ok",
     "timestamp": 1617485637479,
     "user": {
      "displayName": "Diego Alberto Salinas Navarro",
      "photoUrl": "https://lh3.googleusercontent.com/a-/AOh14GhbwNYSSG6XI9Y6slEjlzh6crW1ac3ikTlzpuIUMw=s64",
      "userId": "17435702845671512196"
     },
     "user_tz": 360
    },
    "id": "-wuoz63zhT-I",
    "outputId": "43aca999-e4bc-478b-9926-496f7b885dfe"
   },
   "outputs": [],
   "source": [
    "print(ecm_rmse(resnet_cos_likes, [750, 1000]))\n",
    "print(ecm_rmse(resnet_cos_likes, [1001, 1500]))\n",
    "print(ecm_rmse(resnet_cos_likes, [1501, 2000]))\n",
    "print(ecm_rmse(resnet_cos_likes, [2001, int(max(resnet_cos_likes['original']))]))"
   ]
  },
  {
   "cell_type": "code",
   "execution_count": null,
   "metadata": {
    "colab": {
     "base_uri": "https://localhost:8080/",
     "height": 1000
    },
    "executionInfo": {
     "elapsed": 73757,
     "status": "ok",
     "timestamp": 1617485639810,
     "user": {
      "displayName": "Diego Alberto Salinas Navarro",
      "photoUrl": "https://lh3.googleusercontent.com/a-/AOh14GhbwNYSSG6XI9Y6slEjlzh6crW1ac3ikTlzpuIUMw=s64",
      "userId": "17435702845671512196"
     },
     "user_tz": 360
    },
    "id": "GqJs-liZrZ-s",
    "outputId": "6a5f4ff3-ba46-49b0-ba64-4d413e5ac69b"
   },
   "outputs": [],
   "source": [
    "x = []\n",
    "for i in range(5):\n",
    "    x.append(random.choice(resnet_cos_likes.index))\n",
    "plot_memes(resnet_cos_likes, x, 0, 5)"
   ]
  },
  {
   "cell_type": "markdown",
   "metadata": {
    "id": "AYiW2BxjL5Fd"
   },
   "source": [
    "## Euclidean distance"
   ]
  },
  {
   "cell_type": "code",
   "execution_count": null,
   "metadata": {
    "colab": {
     "base_uri": "https://localhost:8080/"
    },
    "executionInfo": {
     "elapsed": 74113,
     "status": "ok",
     "timestamp": 1617485640187,
     "user": {
      "displayName": "Diego Alberto Salinas Navarro",
      "photoUrl": "https://lh3.googleusercontent.com/a-/AOh14GhbwNYSSG6XI9Y6slEjlzh6crW1ac3ikTlzpuIUMw=s64",
      "userId": "17435702845671512196"
     },
     "user_tz": 360
    },
    "id": "IaXBeyjlL5Fe",
    "outputId": "f13d51a8-a0d3-4fdb-e410-c4a2602ab04e"
   },
   "outputs": [],
   "source": [
    "net = SiameseNetwork_ResNet(True, 512).cuda()\n",
    "net.load_state_dict(torch.load(\"./models/resnet_euc.zip\"))\n",
    "net.eval()"
   ]
  },
  {
   "cell_type": "code",
   "execution_count": null,
   "metadata": {
    "executionInfo": {
     "elapsed": 80455,
     "status": "ok",
     "timestamp": 1617485646551,
     "user": {
      "displayName": "Diego Alberto Salinas Navarro",
      "photoUrl": "https://lh3.googleusercontent.com/a-/AOh14GhbwNYSSG6XI9Y6slEjlzh6crW1ac3ikTlzpuIUMw=s64",
      "userId": "17435702845671512196"
     },
     "user_tz": 360
    },
    "id": "lLiQYx_SL5Ff"
   },
   "outputs": [],
   "source": [
    "resnet_tr_tensors_euc = create_tensors(tr_dataloader, tr_siamese_dataset, net)"
   ]
  },
  {
   "cell_type": "code",
   "execution_count": null,
   "metadata": {
    "executionInfo": {
     "elapsed": 83609,
     "status": "ok",
     "timestamp": 1617485649715,
     "user": {
      "displayName": "Diego Alberto Salinas Navarro",
      "photoUrl": "https://lh3.googleusercontent.com/a-/AOh14GhbwNYSSG6XI9Y6slEjlzh6crW1ac3ikTlzpuIUMw=s64",
      "userId": "17435702845671512196"
     },
     "user_tz": 360
    },
    "id": "cjdUympRL5Ff"
   },
   "outputs": [],
   "source": [
    "resnet_ver_tensors_euc = create_tensors(ver_dataloader, ver_siamese_dataset, net)"
   ]
  },
  {
   "cell_type": "code",
   "execution_count": null,
   "metadata": {
    "executionInfo": {
     "elapsed": 89046,
     "status": "ok",
     "timestamp": 1617485655160,
     "user": {
      "displayName": "Diego Alberto Salinas Navarro",
      "photoUrl": "https://lh3.googleusercontent.com/a-/AOh14GhbwNYSSG6XI9Y6slEjlzh6crW1ac3ikTlzpuIUMw=s64",
      "userId": "17435702845671512196"
     },
     "user_tz": 360
    },
    "id": "-DSl2IDCL5Ff"
   },
   "outputs": [],
   "source": [
    "resnet_tr_umap_euc, resnet_tr_tsne_euc = reduce_dimensions(resnet_tr_tensors_euc)"
   ]
  },
  {
   "cell_type": "code",
   "execution_count": null,
   "metadata": {
    "executionInfo": {
     "elapsed": 92405,
     "status": "ok",
     "timestamp": 1617485658526,
     "user": {
      "displayName": "Diego Alberto Salinas Navarro",
      "photoUrl": "https://lh3.googleusercontent.com/a-/AOh14GhbwNYSSG6XI9Y6slEjlzh6crW1ac3ikTlzpuIUMw=s64",
      "userId": "17435702845671512196"
     },
     "user_tz": 360
    },
    "id": "tojfpi46L5Fg"
   },
   "outputs": [],
   "source": [
    "resnet_ver_umap_euc, resnet_ver_tsne_euc = reduce_dimensions(resnet_ver_tensors_euc)"
   ]
  },
  {
   "cell_type": "code",
   "execution_count": null,
   "metadata": {
    "colab": {
     "base_uri": "https://localhost:8080/",
     "height": 663
    },
    "executionInfo": {
     "elapsed": 94375,
     "status": "ok",
     "timestamp": 1617485660512,
     "user": {
      "displayName": "Diego Alberto Salinas Navarro",
      "photoUrl": "https://lh3.googleusercontent.com/a-/AOh14GhbwNYSSG6XI9Y6slEjlzh6crW1ac3ikTlzpuIUMw=s64",
      "userId": "17435702845671512196"
     },
     "user_tz": 360
    },
    "id": "uwnPRObhL5Fg",
    "outputId": "ac4b096f-9bf2-45ce-f498-da22ab034783"
   },
   "outputs": [],
   "source": [
    "plot_tensors(resnet_tr_tensors_euc, resnet_tr_umap_euc, resnet_tr_tsne_euc, \"Training dataset\")"
   ]
  },
  {
   "cell_type": "code",
   "execution_count": null,
   "metadata": {
    "colab": {
     "base_uri": "https://localhost:8080/",
     "height": 663
    },
    "executionInfo": {
     "elapsed": 94720,
     "status": "ok",
     "timestamp": 1617485660876,
     "user": {
      "displayName": "Diego Alberto Salinas Navarro",
      "photoUrl": "https://lh3.googleusercontent.com/a-/AOh14GhbwNYSSG6XI9Y6slEjlzh6crW1ac3ikTlzpuIUMw=s64",
      "userId": "17435702845671512196"
     },
     "user_tz": 360
    },
    "id": "0a0h6cZML5Fg",
    "outputId": "0e6d5605-0249-4c9c-c389-3eaf395b46b5"
   },
   "outputs": [],
   "source": [
    "plot_tensors(resnet_ver_tensors_euc, resnet_ver_umap_euc, resnet_ver_tsne_euc, \"Testing dataset\")"
   ]
  },
  {
   "cell_type": "code",
   "execution_count": null,
   "metadata": {
    "executionInfo": {
     "elapsed": 116141,
     "status": "ok",
     "timestamp": 1617485682308,
     "user": {
      "displayName": "Diego Alberto Salinas Navarro",
      "photoUrl": "https://lh3.googleusercontent.com/a-/AOh14GhbwNYSSG6XI9Y6slEjlzh6crW1ac3ikTlzpuIUMw=s64",
      "userId": "17435702845671512196"
     },
     "user_tz": 360
    },
    "id": "N8pCqqn4L5Fh"
   },
   "outputs": [],
   "source": [
    "resnet_euc_likes = likes_prediction(resnet_tr_tensors_euc, resnet_ver_tensors_euc, net, 1, 10)"
   ]
  },
  {
   "cell_type": "code",
   "execution_count": null,
   "metadata": {
    "colab": {
     "base_uri": "https://localhost:8080/"
    },
    "executionInfo": {
     "elapsed": 116292,
     "status": "ok",
     "timestamp": 1617485682467,
     "user": {
      "displayName": "Diego Alberto Salinas Navarro",
      "photoUrl": "https://lh3.googleusercontent.com/a-/AOh14GhbwNYSSG6XI9Y6slEjlzh6crW1ac3ikTlzpuIUMw=s64",
      "userId": "17435702845671512196"
     },
     "user_tz": 360
    },
    "id": "qB6MY2vSL5Fh",
    "outputId": "54586b95-e951-4046-bd6c-4cdab79a5652"
   },
   "outputs": [],
   "source": [
    "print(ecm_rmse(resnet_euc_likes, [750, 1000]))\n",
    "print(ecm_rmse(resnet_euc_likes, [1001, 1500]))\n",
    "print(ecm_rmse(resnet_euc_likes, [1501, 2000]))\n",
    "print(ecm_rmse(resnet_euc_likes, [2001, int(max(resnet_euc_likes['original']))]))"
   ]
  },
  {
   "cell_type": "code",
   "execution_count": null,
   "metadata": {
    "colab": {
     "base_uri": "https://localhost:8080/",
     "height": 1000
    },
    "executionInfo": {
     "elapsed": 118195,
     "status": "ok",
     "timestamp": 1617485684390,
     "user": {
      "displayName": "Diego Alberto Salinas Navarro",
      "photoUrl": "https://lh3.googleusercontent.com/a-/AOh14GhbwNYSSG6XI9Y6slEjlzh6crW1ac3ikTlzpuIUMw=s64",
      "userId": "17435702845671512196"
     },
     "user_tz": 360
    },
    "id": "Me_L_b7XL5Fi",
    "outputId": "83a33c37-a272-40ba-9b7c-1a06553a3446"
   },
   "outputs": [],
   "source": [
    "plot_memes(resnet_euc_likes, x, 1, 5)"
   ]
  }
 ],
 "metadata": {
  "accelerator": "GPU",
  "colab": {
   "collapsed_sections": [],
   "name": "ResNet TMLoss (Verificacion).ipynb",
   "provenance": [
    {
     "file_id": "1hhOVs51NPny6oavkyW_-kl-dZ1WegryB",
     "timestamp": 1605606761545
    }
   ]
  },
  "hide_input": false,
  "kernelspec": {
   "display_name": "Python 3",
   "language": "python",
   "name": "python3"
  },
  "language_info": {
   "codemirror_mode": {
    "name": "ipython",
    "version": 3
   },
   "file_extension": ".py",
   "mimetype": "text/x-python",
   "name": "python",
   "nbconvert_exporter": "python",
   "pygments_lexer": "ipython3",
   "version": "3.8.5"
  }
 },
 "nbformat": 4,
 "nbformat_minor": 1
}
