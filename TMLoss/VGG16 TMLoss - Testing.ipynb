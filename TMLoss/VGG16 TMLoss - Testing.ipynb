{
 "cells": [
  {
   "cell_type": "markdown",
   "metadata": {
    "id": "lANElZ9uX43P"
   },
   "source": [
    "# Siamese Neural Network (Testing)"
   ]
  },
  {
   "cell_type": "markdown",
   "metadata": {
    "id": "F6viiDEnX43X"
   },
   "source": [
    "## Importing libraries"
   ]
  },
  {
   "cell_type": "code",
   "execution_count": null,
   "metadata": {
    "executionInfo": {
     "elapsed": 26643,
     "status": "ok",
     "timestamp": 1617486285840,
     "user": {
      "displayName": "Diego Alberto Salinas Navarro",
      "photoUrl": "https://lh3.googleusercontent.com/a-/AOh14GhbwNYSSG6XI9Y6slEjlzh6crW1ac3ikTlzpuIUMw=s64",
      "userId": "17435702845671512196"
     },
     "user_tz": 360
    },
    "id": "jCp51VCKX43d"
   },
   "outputs": [],
   "source": [
    "import torchvision\n",
    "import torchvision.datasets as dset\n",
    "import torchvision.transforms as transforms\n",
    "import torchvision.models as models\n",
    "from torch.utils.data import DataLoader, Dataset\n",
    "import matplotlib.pyplot as plt\n",
    "import matplotlib.image as mpimg\n",
    "import torchvision.utils\n",
    "import numpy as np\n",
    "import random\n",
    "import pandas as pd\n",
    "from PIL import Image\n",
    "import torch\n",
    "import PIL.ImageOps    \n",
    "import torch.nn as nn\n",
    "from torch import optim\n",
    "import torch.nn.functional as F\n",
    "from math import sqrt\n",
    "from operator import itemgetter\n",
    "from sklearn import decomposition\n",
    "from sklearn.preprocessing import StandardScaler\n",
    "from sklearn.manifold import TSNE\n",
    "import umap"
   ]
  },
  {
   "cell_type": "markdown",
   "metadata": {
    "id": "kWXWHfolX44g"
   },
   "source": [
    "## Configuration class"
   ]
  },
  {
   "cell_type": "code",
   "execution_count": null,
   "metadata": {
    "executionInfo": {
     "elapsed": 55958,
     "status": "ok",
     "timestamp": 1617486315178,
     "user": {
      "displayName": "Diego Alberto Salinas Navarro",
      "photoUrl": "https://lh3.googleusercontent.com/a-/AOh14GhbwNYSSG6XI9Y6slEjlzh6crW1ac3ikTlzpuIUMw=s64",
      "userId": "17435702845671512196"
     },
     "user_tz": 360
    },
    "id": "SwXLG_4mX44l"
   },
   "outputs": [],
   "source": [
    "class Config:\n",
    "    \n",
    "    def __init__(self, training_dir, testing_dir, dir_training, dir_testing):\n",
    "        self.training_dir = training_dir\n",
    "        self.testing_dir = testing_dir\n",
    "        self.dset_training = pd.read_csv(dir_training, index_col = 0)\n",
    "        self.dset_testing = pd.read_csv(dir_testing, index_col = 0)\n",
    "\n",
    "conf = Config(\"./data/memes/training/\", \n",
    "              \"./data/memes/testing/\",\n",
    "              \"./data/spb_training.csv\", \n",
    "              \"./data/spb_testing.csv\")\n",
    "\n",
    "normalize = transforms.Normalize(mean = [0.485, 0.456, 0.406],\n",
    "                                 std = [0.229, 0.224, 0.225])"
   ]
  },
  {
   "cell_type": "markdown",
   "metadata": {
    "id": "JqJbLmIg4z0D"
   },
   "source": [
    "## Siamese Neural Network definition"
   ]
  },
  {
   "cell_type": "code",
   "execution_count": null,
   "metadata": {
    "executionInfo": {
     "elapsed": 55957,
     "status": "ok",
     "timestamp": 1617486315181,
     "user": {
      "displayName": "Diego Alberto Salinas Navarro",
      "photoUrl": "https://lh3.googleusercontent.com/a-/AOh14GhbwNYSSG6XI9Y6slEjlzh6crW1ac3ikTlzpuIUMw=s64",
      "userId": "17435702845671512196"
     },
     "user_tz": 360
    },
    "id": "QBl4D4a3X46S"
   },
   "outputs": [],
   "source": [
    "class SiameseNetwork_VGG16(nn.Module):\n",
    "    \n",
    "    def __init__(self, use_pretrained, num_classes):\n",
    "        super(SiameseNetwork_VGG16, self).__init__()\n",
    "        self.model_ft = models.vgg16(pretrained = use_pretrained)\n",
    "        num_ftrs = self.model_ft.classifier[6].in_features\n",
    "        self.model_ft.classifier[6] = nn.Linear(num_ftrs, num_classes)\n",
    "\n",
    "    def forward_once(self, x):\n",
    "        output = self.model_ft(x)\n",
    "        return output\n",
    "\n",
    "    def forward(self, input):\n",
    "        output = self.forward_once(input)\n",
    "        return output"
   ]
  },
  {
   "cell_type": "markdown",
   "metadata": {
    "id": "3kTH1z8hoY-U"
   },
   "source": [
    "## Loading datasets"
   ]
  },
  {
   "cell_type": "code",
   "execution_count": null,
   "metadata": {
    "executionInfo": {
     "elapsed": 55956,
     "status": "ok",
     "timestamp": 1617486315184,
     "user": {
      "displayName": "Diego Alberto Salinas Navarro",
      "photoUrl": "https://lh3.googleusercontent.com/a-/AOh14GhbwNYSSG6XI9Y6slEjlzh6crW1ac3ikTlzpuIUMw=s64",
      "userId": "17435702845671512196"
     },
     "user_tz": 360
    },
    "id": "r0h1SrmKWezX"
   },
   "outputs": [],
   "source": [
    "class SiameseNetworkDataset(Dataset):\n",
    "    \n",
    "    def __init__(self, imageFolderDataset, dset_csv, transform = None):\n",
    "        self.imageFolderDataset = imageFolderDataset\n",
    "        self.dset_csv = dset_csv\n",
    "        self.transform = transform\n",
    "        \n",
    "    def __getitem__(self, index):  \n",
    "        img_tuple = self.imageFolderDataset.imgs[index] \n",
    "        img_id = self.obtain_id(img_tuple[0])\n",
    "        img_fav = self.dset_csv.loc[img_id]['favorites']\n",
    "        img_tensor = Image.open(img_tuple[0])\n",
    "        img_tensor = img_tensor.convert(\"RGB\")\n",
    "        if self.transform is not None:\n",
    "            img_tensor = self.transform(img_tensor)\n",
    "        return img_id, img_tensor, img_fav\n",
    "\n",
    "    def __len__(self):\n",
    "        return len(self.imageFolderDataset.imgs)\n",
    "\n",
    "    def obtain_id(self, img_route):\n",
    "        return int(img_route.split(\"/\")[-1].split(\".\")[0])"
   ]
  },
  {
   "cell_type": "code",
   "execution_count": null,
   "metadata": {
    "executionInfo": {
     "elapsed": 57695,
     "status": "ok",
     "timestamp": 1617486316928,
     "user": {
      "displayName": "Diego Alberto Salinas Navarro",
      "photoUrl": "https://lh3.googleusercontent.com/a-/AOh14GhbwNYSSG6XI9Y6slEjlzh6crW1ac3ikTlzpuIUMw=s64",
      "userId": "17435702845671512196"
     },
     "user_tz": 360
    },
    "id": "89sY6nnxX45U"
   },
   "outputs": [],
   "source": [
    "tr_folder_dataset = dset.ImageFolder(conf.training_dir)\n",
    "tr_siamese_dataset = SiameseNetworkDataset(imageFolderDataset = tr_folder_dataset,\n",
    "                                        dset_csv = conf.dset_training,\n",
    "                                        transform = transforms.Compose([transforms.Resize((224, 224)),\n",
    "                                                    transforms.ToTensor(), \n",
    "                                                    normalize]))\n",
    "tr_dataloader = DataLoader(tr_siamese_dataset, num_workers = 2, batch_size = 1, shuffle = True)"
   ]
  },
  {
   "cell_type": "code",
   "execution_count": null,
   "metadata": {
    "executionInfo": {
     "elapsed": 58279,
     "status": "ok",
     "timestamp": 1617486317516,
     "user": {
      "displayName": "Diego Alberto Salinas Navarro",
      "photoUrl": "https://lh3.googleusercontent.com/a-/AOh14GhbwNYSSG6XI9Y6slEjlzh6crW1ac3ikTlzpuIUMw=s64",
      "userId": "17435702845671512196"
     },
     "user_tz": 360
    },
    "id": "Mg3cBlSNp6K9"
   },
   "outputs": [],
   "source": [
    "ver_folder_dataset = dset.ImageFolder(conf.testing_dir)\n",
    "ver_siamese_dataset = SiameseNetworkDataset(imageFolderDataset = ver_folder_dataset,\n",
    "                                        dset_csv = conf.dset_testing,\n",
    "                                        transform = transforms.Compose([transforms.Resize((224, 224)),\n",
    "                                                    transforms.ToTensor(), \n",
    "                                                    normalize]))\n",
    "ver_dataloader = DataLoader(ver_siamese_dataset, num_workers = 2, batch_size = 1, shuffle = True)"
   ]
  },
  {
   "cell_type": "markdown",
   "metadata": {
    "id": "JA5Ae9mM4nma"
   },
   "source": [
    "## Creating tensors"
   ]
  },
  {
   "cell_type": "code",
   "execution_count": null,
   "metadata": {
    "executionInfo": {
     "elapsed": 58278,
     "status": "ok",
     "timestamp": 1617486317519,
     "user": {
      "displayName": "Diego Alberto Salinas Navarro",
      "photoUrl": "https://lh3.googleusercontent.com/a-/AOh14GhbwNYSSG6XI9Y6slEjlzh6crW1ac3ikTlzpuIUMw=s64",
      "userId": "17435702845671512196"
     },
     "user_tz": 360
    },
    "id": "W3j3ZI6tylaI"
   },
   "outputs": [],
   "source": [
    "import gc\n",
    "def create_tensors(dataloader, dataset, net):\n",
    "    ids, tensors, favs, imgs = [], [], [], []\n",
    "    data = iter(dataloader)\n",
    "    for _ in range(len(dataset)):\n",
    "        id, img, fav = next(data)\n",
    "        ids.append(id.item())\n",
    "        img = net(img.cuda())\n",
    "        tensors.append(img.cpu().detach())\n",
    "        imgs.append(img.cpu().detach().numpy()[0])\n",
    "        favs.append(fav.item())\n",
    "        del id, img, fav\n",
    "        gc.collect()\n",
    "        torch.cuda.empty_cache()\n",
    "    df = pd.DataFrame(index = ids, data = {'tensors':tensors, 'vectors': imgs, 'favorites': favs})\n",
    "    return df   "
   ]
  },
  {
   "cell_type": "markdown",
   "metadata": {
    "id": "o8HW5cv54mCN"
   },
   "source": [
    "## Dimensionality reduction"
   ]
  },
  {
   "cell_type": "code",
   "execution_count": null,
   "metadata": {
    "executionInfo": {
     "elapsed": 58276,
     "status": "ok",
     "timestamp": 1617486317521,
     "user": {
      "displayName": "Diego Alberto Salinas Navarro",
      "photoUrl": "https://lh3.googleusercontent.com/a-/AOh14GhbwNYSSG6XI9Y6slEjlzh6crW1ac3ikTlzpuIUMw=s64",
      "userId": "17435702845671512196"
     },
     "user_tz": 360
    },
    "id": "O0WG__-e4tX7"
   },
   "outputs": [],
   "source": [
    "def reduce_dimensions(tensors):\n",
    "    reducer = umap.UMAP()\n",
    "    meme_data = tensors['vectors'].to_list()\n",
    "    #UMAP\n",
    "    scaled_meme_data = StandardScaler().fit_transform(meme_data)\n",
    "    meme_umap = reducer.fit_transform(scaled_meme_data)\n",
    "    #TSNE\n",
    "    meme_tsne = TSNE(n_components = 2).fit_transform(meme_data)\n",
    "    return meme_umap, meme_tsne"
   ]
  },
  {
   "cell_type": "markdown",
   "metadata": {
    "id": "lfdebWT5-MGW"
   },
   "source": [
    "## Plotting"
   ]
  },
  {
   "cell_type": "code",
   "execution_count": null,
   "metadata": {
    "executionInfo": {
     "elapsed": 58515,
     "status": "ok",
     "timestamp": 1617486317764,
     "user": {
      "displayName": "Diego Alberto Salinas Navarro",
      "photoUrl": "https://lh3.googleusercontent.com/a-/AOh14GhbwNYSSG6XI9Y6slEjlzh6crW1ac3ikTlzpuIUMw=s64",
      "userId": "17435702845671512196"
     },
     "user_tz": 360
    },
    "id": "rXLmIVr4mmd0"
   },
   "outputs": [],
   "source": [
    "def plot_tensors(tensors, umap_v, tsne_v, plot_title):\n",
    "    x1, x2, y1, y2, colors, sizes = [], [], [], [], [], []\n",
    "    max_fav = max(tensors['favorites'].to_list())\n",
    "    for i in range(len(tensors.index)):\n",
    "        if tensors['favorites'].iloc[i] < max_fav:\n",
    "            x1.append(umap_v[i][0])\n",
    "            x2.append(tsne_v[i][0])\n",
    "            y1.append(umap_v[i][1])\n",
    "            y2.append(tsne_v[i][1])\n",
    "            colors.append(tensors['favorites'].iloc[i])\n",
    "            sizes.append((tensors['favorites'].iloc[i]/max_fav) * 500)\n",
    "    colors = np.array(colors)\n",
    "    sizes = np.array(sizes)\n",
    "    fig = plt.figure(figsize = (20, 10))\n",
    "    plt.subplot(1, 2, 1)\n",
    "    plt.scatter(x1, y1, c = colors, s = sizes, alpha = 0.5, cmap = 'viridis_r')\n",
    "    plt.title('UMAP')\n",
    "    plt.colorbar(label = 'Número de likes')\n",
    "    plt.subplot(1, 2, 2)\n",
    "    plt.scatter(x2, y2, c = colors, s = sizes, alpha = 0.5, cmap = 'viridis_r')\n",
    "    plt.title('TSNE')\n",
    "    plt.colorbar(label = 'Número de likes')\n",
    "    plt.suptitle(plot_title, fontsize = 30)\n",
    "    plt.show()"
   ]
  },
  {
   "cell_type": "markdown",
   "metadata": {
    "id": "OrOY5YSk9B8u"
   },
   "source": [
    "## Likes prediction"
   ]
  },
  {
   "cell_type": "code",
   "execution_count": null,
   "metadata": {
    "executionInfo": {
     "elapsed": 58512,
     "status": "ok",
     "timestamp": 1617486317765,
     "user": {
      "displayName": "Diego Alberto Salinas Navarro",
      "photoUrl": "https://lh3.googleusercontent.com/a-/AOh14GhbwNYSSG6XI9Y6slEjlzh6crW1ac3ikTlzpuIUMw=s64",
      "userId": "17435702845671512196"
     },
     "user_tz": 360
    },
    "id": "HRmC7rsNrC6O"
   },
   "outputs": [],
   "source": [
    "def dist(t0, t1, mode):\n",
    "    if mode == 0:\n",
    "        distance = 1 - F.cosine_similarity(t0, t1, dim = 1)\n",
    "    else:\n",
    "        distance = F.pairwise_distance(t0, t1)\n",
    "    return distance.item()"
   ]
  },
  {
   "cell_type": "code",
   "execution_count": null,
   "metadata": {
    "executionInfo": {
     "elapsed": 58510,
     "status": "ok",
     "timestamp": 1617486317766,
     "user": {
      "displayName": "Diego Alberto Salinas Navarro",
      "photoUrl": "https://lh3.googleusercontent.com/a-/AOh14GhbwNYSSG6XI9Y6slEjlzh6crW1ac3ikTlzpuIUMw=s64",
      "userId": "17435702845671512196"
     },
     "user_tz": 360
    },
    "id": "LViX9VL9_6AF"
   },
   "outputs": [],
   "source": [
    "def likes_prediction(tr_tensors, ver_tensors, net, mode, n):\n",
    "    ids, original, calculated = [], [], []\n",
    "    for i in ver_tensors.index:\n",
    "        likes = []\n",
    "        for j in tr_tensors.index:\n",
    "            fav = tr_tensors.loc[j]['favorites']\n",
    "            dif = dist(ver_tensors.loc[i]['tensors'], tr_tensors.loc[j]['tensors'], mode)\n",
    "            likes.append([j, fav, dif])\n",
    "        likes.sort(key = itemgetter(2))\n",
    "        likes, y = likes[:n], 0\n",
    "        for x in likes:\n",
    "            y += x[1] \n",
    "        ids.append(likes)\n",
    "        original.append(ver_tensors.loc[i]['favorites'])\n",
    "        calculated.append(int(y/n))\n",
    "    df = pd.DataFrame(index = ver_tensors.index, data = {'ids': ids, 'original': original, 'calculated': calculated})  \n",
    "    return df   "
   ]
  },
  {
   "cell_type": "markdown",
   "metadata": {
    "id": "FRKTUDm6Gxil"
   },
   "source": [
    "## ECM and RMSE"
   ]
  },
  {
   "cell_type": "code",
   "execution_count": null,
   "metadata": {
    "executionInfo": {
     "elapsed": 58507,
     "status": "ok",
     "timestamp": 1617486317767,
     "user": {
      "displayName": "Diego Alberto Salinas Navarro",
      "photoUrl": "https://lh3.googleusercontent.com/a-/AOh14GhbwNYSSG6XI9Y6slEjlzh6crW1ac3ikTlzpuIUMw=s64",
      "userId": "17435702845671512196"
     },
     "user_tz": 360
    },
    "id": "jxHkvGHc0bi7"
   },
   "outputs": [],
   "source": [
    "def ecm_rmse(tensors, likes_range):\n",
    "    ecm, n, p = 0, 0, 0\n",
    "    for i in tensors.index:\n",
    "        if tensors.loc[i]['original'] in range(likes_range[0], likes_range[1] + 1):\n",
    "            ecm += (tensors.loc[i]['original'] - tensors.loc[i]['calculated'])**2\n",
    "            if tensors.loc[i]['calculated'] >= 0.9*tensors.loc[i]['original'] and tensors.loc[i]['calculated'] <= 1.1*tensors.loc[i]['original']:\n",
    "                p += 1\n",
    "            n += 1\n",
    "    ecm = round(ecm/n, 2)\n",
    "    rmse = round(sqrt(ecm), 2)\n",
    "    positives = round(p/n, 2)\n",
    "    return 'Range({}, {})\\n ECM = {}, RMSE = {}, Acc = {}'.format(likes_range[0], likes_range[1], ecm, rmse, positives)"
   ]
  },
  {
   "cell_type": "markdown",
   "metadata": {
    "id": "MtxQTgtfkqeO"
   },
   "source": [
    "## Visual (Meme and best match)"
   ]
  },
  {
   "cell_type": "code",
   "execution_count": null,
   "metadata": {
    "executionInfo": {
     "elapsed": 58504,
     "status": "ok",
     "timestamp": 1617486317768,
     "user": {
      "displayName": "Diego Alberto Salinas Navarro",
      "photoUrl": "https://lh3.googleusercontent.com/a-/AOh14GhbwNYSSG6XI9Y6slEjlzh6crW1ac3ikTlzpuIUMw=s64",
      "userId": "17435702845671512196"
     },
     "user_tz": 360
    },
    "id": "ae65NWA6ko5F"
   },
   "outputs": [],
   "source": [
    "def plot_memes(likes_df, x, mode, n):\n",
    "    images, j = [], 0\n",
    "    for i in x:\n",
    "        route = \"./data/memes/testing/testing/{}.jpeg\".format(i)\n",
    "        images.append([route, likes_df.loc[i]['original']])\n",
    "        route = \"./data/memes/training/training/{}.jpeg\".format(likes_df.loc[i]['ids'][0][0])\n",
    "        images.append([route, likes_df.loc[i]['ids'][0][1], likes_df.loc[i]['ids'][0][2]])\n",
    "        j += 1\n",
    "        if j == n:\n",
    "            break\n",
    "    fig = plt.figure(figsize = (10, n * 5))\n",
    "    for i in range(n * 2):\n",
    "        plt.subplot(n, 2, i + 1)\n",
    "        read_img = mpimg.imread(images[i][0])\n",
    "        plt.imshow(read_img)\n",
    "        plt.axis('off')\n",
    "        if (i + 1) % 2 == 0:\n",
    "            if mode == 0:\n",
    "                plt.title('{} likes (Dist = {})'.format(images[i][1], round(1 - images[i][2], 2)))\n",
    "            else:\n",
    "                plt.title('{} likes (Dist = {})'.format(images[i][1], round(images[i][2], 2)))\n",
    "        else:\n",
    "            plt.title('{} likes'.format(images[i][1]))\n",
    "    plt.show()"
   ]
  },
  {
   "cell_type": "markdown",
   "metadata": {
    "id": "yOx8Ey7V0qt-"
   },
   "source": [
    "## Cosine similarity"
   ]
  },
  {
   "cell_type": "code",
   "execution_count": null,
   "metadata": {
    "colab": {
     "base_uri": "https://localhost:8080/",
     "height": 882,
     "referenced_widgets": [
      "2665d0bc41f249b6b1d9751124943919",
      "306ab5f0c4314b42b1dd7492aab4be83",
      "dd9d83ac287f49738651bc44513c9fbe",
      "e7af95c75fe044969c4fcfc0f9cedada",
      "f9ba1a545c164bf790b97706f92d4850",
      "60798a7623b442cdbe31e567920261bf",
      "a4ea5950f45645718772b2a158155918",
      "a0bccb3fd4454fff85bcd4ddd5637647"
     ]
    },
    "executionInfo": {
     "elapsed": 79542,
     "status": "ok",
     "timestamp": 1617486338818,
     "user": {
      "displayName": "Diego Alberto Salinas Navarro",
      "photoUrl": "https://lh3.googleusercontent.com/a-/AOh14GhbwNYSSG6XI9Y6slEjlzh6crW1ac3ikTlzpuIUMw=s64",
      "userId": "17435702845671512196"
     },
     "user_tz": 360
    },
    "id": "AtDtP9Yf48MB",
    "outputId": "7ebf8326-eaeb-48b6-85c0-47d2b332e650"
   },
   "outputs": [],
   "source": [
    "net = SiameseNetwork_VGG16(True, 512).cuda()\n",
    "net.load_state_dict(torch.load(\"./models/vgg16_simcos.zip\"))\n",
    "net.eval()"
   ]
  },
  {
   "cell_type": "code",
   "execution_count": null,
   "metadata": {
    "executionInfo": {
     "elapsed": 152885,
     "status": "ok",
     "timestamp": 1617486412165,
     "user": {
      "displayName": "Diego Alberto Salinas Navarro",
      "photoUrl": "https://lh3.googleusercontent.com/a-/AOh14GhbwNYSSG6XI9Y6slEjlzh6crW1ac3ikTlzpuIUMw=s64",
      "userId": "17435702845671512196"
     },
     "user_tz": 360
    },
    "id": "t2W8ZhUCYR-1"
   },
   "outputs": [],
   "source": [
    "vgg16_tr_tensors_cos = create_tensors(tr_dataloader, tr_siamese_dataset, net)"
   ]
  },
  {
   "cell_type": "code",
   "execution_count": null,
   "metadata": {
    "executionInfo": {
     "elapsed": 171769,
     "status": "ok",
     "timestamp": 1617486431053,
     "user": {
      "displayName": "Diego Alberto Salinas Navarro",
      "photoUrl": "https://lh3.googleusercontent.com/a-/AOh14GhbwNYSSG6XI9Y6slEjlzh6crW1ac3ikTlzpuIUMw=s64",
      "userId": "17435702845671512196"
     },
     "user_tz": 360
    },
    "id": "uQ2GAiZd8qpD"
   },
   "outputs": [],
   "source": [
    "vgg16_ver_tensors_cos = create_tensors(ver_dataloader, ver_siamese_dataset, net)"
   ]
  },
  {
   "cell_type": "code",
   "execution_count": null,
   "metadata": {
    "executionInfo": {
     "elapsed": 183382,
     "status": "ok",
     "timestamp": 1617486442670,
     "user": {
      "displayName": "Diego Alberto Salinas Navarro",
      "photoUrl": "https://lh3.googleusercontent.com/a-/AOh14GhbwNYSSG6XI9Y6slEjlzh6crW1ac3ikTlzpuIUMw=s64",
      "userId": "17435702845671512196"
     },
     "user_tz": 360
    },
    "id": "iBMJ3YazYyLI"
   },
   "outputs": [],
   "source": [
    "vgg16_tr_umap_cos, vgg16_tr_tsne_cos = reduce_dimensions(vgg16_tr_tensors_cos)"
   ]
  },
  {
   "cell_type": "code",
   "execution_count": null,
   "metadata": {
    "executionInfo": {
     "elapsed": 186624,
     "status": "ok",
     "timestamp": 1617486445915,
     "user": {
      "displayName": "Diego Alberto Salinas Navarro",
      "photoUrl": "https://lh3.googleusercontent.com/a-/AOh14GhbwNYSSG6XI9Y6slEjlzh6crW1ac3ikTlzpuIUMw=s64",
      "userId": "17435702845671512196"
     },
     "user_tz": 360
    },
    "id": "8yMigWIm94B4"
   },
   "outputs": [],
   "source": [
    "vgg16_ver_umap_cos, vgg16_ver_tsne_cos = reduce_dimensions(vgg16_ver_tensors_cos)"
   ]
  },
  {
   "cell_type": "code",
   "execution_count": null,
   "metadata": {
    "colab": {
     "base_uri": "https://localhost:8080/",
     "height": 663
    },
    "executionInfo": {
     "elapsed": 187586,
     "status": "ok",
     "timestamp": 1617486446897,
     "user": {
      "displayName": "Diego Alberto Salinas Navarro",
      "photoUrl": "https://lh3.googleusercontent.com/a-/AOh14GhbwNYSSG6XI9Y6slEjlzh6crW1ac3ikTlzpuIUMw=s64",
      "userId": "17435702845671512196"
     },
     "user_tz": 360
    },
    "id": "GlQt81lMlcUg",
    "outputId": "31e3dc8d-58f4-4ac9-99db-bcdb61e6d83d"
   },
   "outputs": [],
   "source": [
    "plot_tensors(vgg16_tr_tensors_cos, vgg16_tr_umap_cos, vgg16_tr_tsne_cos, \"Training dataset\")"
   ]
  },
  {
   "cell_type": "code",
   "execution_count": null,
   "metadata": {
    "colab": {
     "base_uri": "https://localhost:8080/",
     "height": 663
    },
    "executionInfo": {
     "elapsed": 188004,
     "status": "ok",
     "timestamp": 1617486447336,
     "user": {
      "displayName": "Diego Alberto Salinas Navarro",
      "photoUrl": "https://lh3.googleusercontent.com/a-/AOh14GhbwNYSSG6XI9Y6slEjlzh6crW1ac3ikTlzpuIUMw=s64",
      "userId": "17435702845671512196"
     },
     "user_tz": 360
    },
    "id": "EJIPJMIy-yyj",
    "outputId": "2e190386-3484-40f4-c5f7-14640ff8dbd2"
   },
   "outputs": [],
   "source": [
    "plot_tensors(vgg16_ver_tensors_cos, vgg16_ver_umap_cos, vgg16_ver_tsne_cos, \"Testing dataset\")"
   ]
  },
  {
   "cell_type": "code",
   "execution_count": null,
   "metadata": {
    "executionInfo": {
     "elapsed": 211500,
     "status": "ok",
     "timestamp": 1617486470838,
     "user": {
      "displayName": "Diego Alberto Salinas Navarro",
      "photoUrl": "https://lh3.googleusercontent.com/a-/AOh14GhbwNYSSG6XI9Y6slEjlzh6crW1ac3ikTlzpuIUMw=s64",
      "userId": "17435702845671512196"
     },
     "user_tz": 360
    },
    "id": "5YmKxIs_g0sF"
   },
   "outputs": [],
   "source": [
    "vgg16_cos_likes = likes_prediction(vgg16_tr_tensors_cos, vgg16_ver_tensors_cos, net, 0, 10)"
   ]
  },
  {
   "cell_type": "code",
   "execution_count": null,
   "metadata": {
    "colab": {
     "base_uri": "https://localhost:8080/"
    },
    "executionInfo": {
     "elapsed": 486,
     "status": "ok",
     "timestamp": 1617486527883,
     "user": {
      "displayName": "Diego Alberto Salinas Navarro",
      "photoUrl": "https://lh3.googleusercontent.com/a-/AOh14GhbwNYSSG6XI9Y6slEjlzh6crW1ac3ikTlzpuIUMw=s64",
      "userId": "17435702845671512196"
     },
     "user_tz": 360
    },
    "id": "-wuoz63zhT-I",
    "outputId": "c9b59a8d-53d8-4de8-9b83-49f512a8164c"
   },
   "outputs": [],
   "source": [
    "print(ecm_rmse(vgg16_cos_likes, [750, 1000]))\n",
    "print(ecm_rmse(vgg16_cos_likes, [1001, 1500]))\n",
    "print(ecm_rmse(vgg16_cos_likes, [1501, 2000]))\n",
    "print(ecm_rmse(vgg16_cos_likes, [2001, int(max(vgg16_cos_likes['original']))]))"
   ]
  },
  {
   "cell_type": "code",
   "execution_count": null,
   "metadata": {
    "colab": {
     "base_uri": "https://localhost:8080/",
     "height": 1000
    },
    "executionInfo": {
     "elapsed": 3068,
     "status": "ok",
     "timestamp": 1617486530486,
     "user": {
      "displayName": "Diego Alberto Salinas Navarro",
      "photoUrl": "https://lh3.googleusercontent.com/a-/AOh14GhbwNYSSG6XI9Y6slEjlzh6crW1ac3ikTlzpuIUMw=s64",
      "userId": "17435702845671512196"
     },
     "user_tz": 360
    },
    "id": "GqJs-liZrZ-s",
    "outputId": "5e75425f-a82e-41d6-9a60-d682c1e06232"
   },
   "outputs": [],
   "source": [
    "x = []\n",
    "for i in range(5):\n",
    "    x.append(random.choice(vgg16_cos_likes.index))\n",
    "plot_memes(vgg16_cos_likes, x, 0, 5)"
   ]
  },
  {
   "cell_type": "markdown",
   "metadata": {
    "id": "AYiW2BxjL5Fd"
   },
   "source": [
    "## Euclidean distance"
   ]
  },
  {
   "cell_type": "code",
   "execution_count": null,
   "metadata": {
    "colab": {
     "base_uri": "https://localhost:8080/"
    },
    "executionInfo": {
     "elapsed": 8647,
     "status": "ok",
     "timestamp": 1617486536087,
     "user": {
      "displayName": "Diego Alberto Salinas Navarro",
      "photoUrl": "https://lh3.googleusercontent.com/a-/AOh14GhbwNYSSG6XI9Y6slEjlzh6crW1ac3ikTlzpuIUMw=s64",
      "userId": "17435702845671512196"
     },
     "user_tz": 360
    },
    "id": "IaXBeyjlL5Fe",
    "outputId": "d24329e5-d044-408b-d713-5300ec79ca72"
   },
   "outputs": [],
   "source": [
    "net = SiameseNetwork_VGG16(True, 512).cuda()\n",
    "net.load_state_dict(torch.load(\"./models/vgg16_euc.zip\"))\n",
    "net.eval()"
   ]
  },
  {
   "cell_type": "code",
   "execution_count": null,
   "metadata": {
    "executionInfo": {
     "elapsed": 86892,
     "status": "ok",
     "timestamp": 1617486614340,
     "user": {
      "displayName": "Diego Alberto Salinas Navarro",
      "photoUrl": "https://lh3.googleusercontent.com/a-/AOh14GhbwNYSSG6XI9Y6slEjlzh6crW1ac3ikTlzpuIUMw=s64",
      "userId": "17435702845671512196"
     },
     "user_tz": 360
    },
    "id": "lLiQYx_SL5Ff"
   },
   "outputs": [],
   "source": [
    "vgg16_tr_tensors_euc = create_tensors(tr_dataloader, tr_siamese_dataset, net)"
   ]
  },
  {
   "cell_type": "code",
   "execution_count": null,
   "metadata": {
    "executionInfo": {
     "elapsed": 106778,
     "status": "ok",
     "timestamp": 1617486634234,
     "user": {
      "displayName": "Diego Alberto Salinas Navarro",
      "photoUrl": "https://lh3.googleusercontent.com/a-/AOh14GhbwNYSSG6XI9Y6slEjlzh6crW1ac3ikTlzpuIUMw=s64",
      "userId": "17435702845671512196"
     },
     "user_tz": 360
    },
    "id": "cjdUympRL5Ff"
   },
   "outputs": [],
   "source": [
    "vgg16_ver_tensors_euc = create_tensors(ver_dataloader, ver_siamese_dataset, net)"
   ]
  },
  {
   "cell_type": "code",
   "execution_count": null,
   "metadata": {
    "executionInfo": {
     "elapsed": 113123,
     "status": "ok",
     "timestamp": 1617486640587,
     "user": {
      "displayName": "Diego Alberto Salinas Navarro",
      "photoUrl": "https://lh3.googleusercontent.com/a-/AOh14GhbwNYSSG6XI9Y6slEjlzh6crW1ac3ikTlzpuIUMw=s64",
      "userId": "17435702845671512196"
     },
     "user_tz": 360
    },
    "id": "-DSl2IDCL5Ff"
   },
   "outputs": [],
   "source": [
    "vgg16_tr_umap_euc, vgg16_tr_tsne_euc = reduce_dimensions(vgg16_tr_tensors_euc)"
   ]
  },
  {
   "cell_type": "code",
   "execution_count": null,
   "metadata": {
    "executionInfo": {
     "elapsed": 116791,
     "status": "ok",
     "timestamp": 1617486644263,
     "user": {
      "displayName": "Diego Alberto Salinas Navarro",
      "photoUrl": "https://lh3.googleusercontent.com/a-/AOh14GhbwNYSSG6XI9Y6slEjlzh6crW1ac3ikTlzpuIUMw=s64",
      "userId": "17435702845671512196"
     },
     "user_tz": 360
    },
    "id": "tojfpi46L5Fg"
   },
   "outputs": [],
   "source": [
    "vgg16_ver_umap_euc, vgg16_ver_tsne_euc = reduce_dimensions(vgg16_ver_tensors_euc)"
   ]
  },
  {
   "cell_type": "code",
   "execution_count": null,
   "metadata": {
    "colab": {
     "base_uri": "https://localhost:8080/",
     "height": 663
    },
    "executionInfo": {
     "elapsed": 117401,
     "status": "ok",
     "timestamp": 1617486644881,
     "user": {
      "displayName": "Diego Alberto Salinas Navarro",
      "photoUrl": "https://lh3.googleusercontent.com/a-/AOh14GhbwNYSSG6XI9Y6slEjlzh6crW1ac3ikTlzpuIUMw=s64",
      "userId": "17435702845671512196"
     },
     "user_tz": 360
    },
    "id": "uwnPRObhL5Fg",
    "outputId": "92965f0d-3da3-4e3e-a113-2958c5e1aa26"
   },
   "outputs": [],
   "source": [
    "plot_tensors(vgg16_tr_tensors_euc, vgg16_tr_umap_euc, vgg16_tr_tsne_euc, \"Training dataset\")"
   ]
  },
  {
   "cell_type": "code",
   "execution_count": null,
   "metadata": {
    "colab": {
     "base_uri": "https://localhost:8080/",
     "height": 663
    },
    "executionInfo": {
     "elapsed": 117818,
     "status": "ok",
     "timestamp": 1617486645306,
     "user": {
      "displayName": "Diego Alberto Salinas Navarro",
      "photoUrl": "https://lh3.googleusercontent.com/a-/AOh14GhbwNYSSG6XI9Y6slEjlzh6crW1ac3ikTlzpuIUMw=s64",
      "userId": "17435702845671512196"
     },
     "user_tz": 360
    },
    "id": "0a0h6cZML5Fg",
    "outputId": "af87711e-b020-4151-ac5e-310aabc52877"
   },
   "outputs": [],
   "source": [
    "plot_tensors(vgg16_ver_tensors_euc, vgg16_ver_umap_euc, vgg16_ver_tsne_euc, \"Testing dataset\")"
   ]
  },
  {
   "cell_type": "code",
   "execution_count": null,
   "metadata": {
    "executionInfo": {
     "elapsed": 139416,
     "status": "ok",
     "timestamp": 1617486666912,
     "user": {
      "displayName": "Diego Alberto Salinas Navarro",
      "photoUrl": "https://lh3.googleusercontent.com/a-/AOh14GhbwNYSSG6XI9Y6slEjlzh6crW1ac3ikTlzpuIUMw=s64",
      "userId": "17435702845671512196"
     },
     "user_tz": 360
    },
    "id": "N8pCqqn4L5Fh"
   },
   "outputs": [],
   "source": [
    "vgg16_euc_likes = likes_prediction(vgg16_tr_tensors_euc, vgg16_ver_tensors_euc, net, 1, 10)"
   ]
  },
  {
   "cell_type": "code",
   "execution_count": null,
   "metadata": {
    "colab": {
     "base_uri": "https://localhost:8080/"
    },
    "executionInfo": {
     "elapsed": 139554,
     "status": "ok",
     "timestamp": 1617486667058,
     "user": {
      "displayName": "Diego Alberto Salinas Navarro",
      "photoUrl": "https://lh3.googleusercontent.com/a-/AOh14GhbwNYSSG6XI9Y6slEjlzh6crW1ac3ikTlzpuIUMw=s64",
      "userId": "17435702845671512196"
     },
     "user_tz": 360
    },
    "id": "qB6MY2vSL5Fh",
    "outputId": "2427c093-99e2-4bfa-cde1-7a53a33a89cd"
   },
   "outputs": [],
   "source": [
    "print(ecm_rmse(vgg16_euc_likes, [750, 1000]))\n",
    "print(ecm_rmse(vgg16_euc_likes, [1001, 1500]))\n",
    "print(ecm_rmse(vgg16_euc_likes, [1501, 2000]))\n",
    "print(ecm_rmse(vgg16_euc_likes, [2001, int(max(vgg16_euc_likes['original']))]))"
   ]
  },
  {
   "cell_type": "code",
   "execution_count": null,
   "metadata": {
    "colab": {
     "base_uri": "https://localhost:8080/",
     "height": 1000
    },
    "executionInfo": {
     "elapsed": 141660,
     "status": "ok",
     "timestamp": 1617486669175,
     "user": {
      "displayName": "Diego Alberto Salinas Navarro",
      "photoUrl": "https://lh3.googleusercontent.com/a-/AOh14GhbwNYSSG6XI9Y6slEjlzh6crW1ac3ikTlzpuIUMw=s64",
      "userId": "17435702845671512196"
     },
     "user_tz": 360
    },
    "id": "Me_L_b7XL5Fi",
    "outputId": "db0f48ea-8559-43ac-9025-bdcc4b53a2d7"
   },
   "outputs": [],
   "source": [
    "plot_memes(vgg16_euc_likes, x, 1, 5)"
   ]
  }
 ],
 "metadata": {
  "accelerator": "GPU",
  "colab": {
   "collapsed_sections": [],
   "name": "VGG16 TMLoss (Verificacion).ipynb",
   "provenance": [
    {
     "file_id": "1hhOVs51NPny6oavkyW_-kl-dZ1WegryB",
     "timestamp": 1605606761545
    }
   ]
  },
  "hide_input": false,
  "kernelspec": {
   "display_name": "Python 3",
   "language": "python",
   "name": "python3"
  },
  "language_info": {
   "codemirror_mode": {
    "name": "ipython",
    "version": 3
   },
   "file_extension": ".py",
   "mimetype": "text/x-python",
   "name": "python",
   "nbconvert_exporter": "python",
   "pygments_lexer": "ipython3",
   "version": "3.8.5"
  },
  "widgets": {
   "application/vnd.jupyter.widget-state+json": {
    "2665d0bc41f249b6b1d9751124943919": {
     "model_module": "@jupyter-widgets/controls",
     "model_name": "HBoxModel",
     "state": {
      "_dom_classes": [],
      "_model_module": "@jupyter-widgets/controls",
      "_model_module_version": "1.5.0",
      "_model_name": "HBoxModel",
      "_view_count": null,
      "_view_module": "@jupyter-widgets/controls",
      "_view_module_version": "1.5.0",
      "_view_name": "HBoxView",
      "box_style": "",
      "children": [
       "IPY_MODEL_dd9d83ac287f49738651bc44513c9fbe",
       "IPY_MODEL_e7af95c75fe044969c4fcfc0f9cedada"
      ],
      "layout": "IPY_MODEL_306ab5f0c4314b42b1dd7492aab4be83"
     }
    },
    "306ab5f0c4314b42b1dd7492aab4be83": {
     "model_module": "@jupyter-widgets/base",
     "model_name": "LayoutModel",
     "state": {
      "_model_module": "@jupyter-widgets/base",
      "_model_module_version": "1.2.0",
      "_model_name": "LayoutModel",
      "_view_count": null,
      "_view_module": "@jupyter-widgets/base",
      "_view_module_version": "1.2.0",
      "_view_name": "LayoutView",
      "align_content": null,
      "align_items": null,
      "align_self": null,
      "border": null,
      "bottom": null,
      "display": null,
      "flex": null,
      "flex_flow": null,
      "grid_area": null,
      "grid_auto_columns": null,
      "grid_auto_flow": null,
      "grid_auto_rows": null,
      "grid_column": null,
      "grid_gap": null,
      "grid_row": null,
      "grid_template_areas": null,
      "grid_template_columns": null,
      "grid_template_rows": null,
      "height": null,
      "justify_content": null,
      "justify_items": null,
      "left": null,
      "margin": null,
      "max_height": null,
      "max_width": null,
      "min_height": null,
      "min_width": null,
      "object_fit": null,
      "object_position": null,
      "order": null,
      "overflow": null,
      "overflow_x": null,
      "overflow_y": null,
      "padding": null,
      "right": null,
      "top": null,
      "visibility": null,
      "width": null
     }
    },
    "60798a7623b442cdbe31e567920261bf": {
     "model_module": "@jupyter-widgets/base",
     "model_name": "LayoutModel",
     "state": {
      "_model_module": "@jupyter-widgets/base",
      "_model_module_version": "1.2.0",
      "_model_name": "LayoutModel",
      "_view_count": null,
      "_view_module": "@jupyter-widgets/base",
      "_view_module_version": "1.2.0",
      "_view_name": "LayoutView",
      "align_content": null,
      "align_items": null,
      "align_self": null,
      "border": null,
      "bottom": null,
      "display": null,
      "flex": null,
      "flex_flow": null,
      "grid_area": null,
      "grid_auto_columns": null,
      "grid_auto_flow": null,
      "grid_auto_rows": null,
      "grid_column": null,
      "grid_gap": null,
      "grid_row": null,
      "grid_template_areas": null,
      "grid_template_columns": null,
      "grid_template_rows": null,
      "height": null,
      "justify_content": null,
      "justify_items": null,
      "left": null,
      "margin": null,
      "max_height": null,
      "max_width": null,
      "min_height": null,
      "min_width": null,
      "object_fit": null,
      "object_position": null,
      "order": null,
      "overflow": null,
      "overflow_x": null,
      "overflow_y": null,
      "padding": null,
      "right": null,
      "top": null,
      "visibility": null,
      "width": null
     }
    },
    "a0bccb3fd4454fff85bcd4ddd5637647": {
     "model_module": "@jupyter-widgets/base",
     "model_name": "LayoutModel",
     "state": {
      "_model_module": "@jupyter-widgets/base",
      "_model_module_version": "1.2.0",
      "_model_name": "LayoutModel",
      "_view_count": null,
      "_view_module": "@jupyter-widgets/base",
      "_view_module_version": "1.2.0",
      "_view_name": "LayoutView",
      "align_content": null,
      "align_items": null,
      "align_self": null,
      "border": null,
      "bottom": null,
      "display": null,
      "flex": null,
      "flex_flow": null,
      "grid_area": null,
      "grid_auto_columns": null,
      "grid_auto_flow": null,
      "grid_auto_rows": null,
      "grid_column": null,
      "grid_gap": null,
      "grid_row": null,
      "grid_template_areas": null,
      "grid_template_columns": null,
      "grid_template_rows": null,
      "height": null,
      "justify_content": null,
      "justify_items": null,
      "left": null,
      "margin": null,
      "max_height": null,
      "max_width": null,
      "min_height": null,
      "min_width": null,
      "object_fit": null,
      "object_position": null,
      "order": null,
      "overflow": null,
      "overflow_x": null,
      "overflow_y": null,
      "padding": null,
      "right": null,
      "top": null,
      "visibility": null,
      "width": null
     }
    },
    "a4ea5950f45645718772b2a158155918": {
     "model_module": "@jupyter-widgets/controls",
     "model_name": "DescriptionStyleModel",
     "state": {
      "_model_module": "@jupyter-widgets/controls",
      "_model_module_version": "1.5.0",
      "_model_name": "DescriptionStyleModel",
      "_view_count": null,
      "_view_module": "@jupyter-widgets/base",
      "_view_module_version": "1.2.0",
      "_view_name": "StyleView",
      "description_width": ""
     }
    },
    "dd9d83ac287f49738651bc44513c9fbe": {
     "model_module": "@jupyter-widgets/controls",
     "model_name": "FloatProgressModel",
     "state": {
      "_dom_classes": [],
      "_model_module": "@jupyter-widgets/controls",
      "_model_module_version": "1.5.0",
      "_model_name": "FloatProgressModel",
      "_view_count": null,
      "_view_module": "@jupyter-widgets/controls",
      "_view_module_version": "1.5.0",
      "_view_name": "ProgressView",
      "bar_style": "success",
      "description": "100%",
      "description_tooltip": null,
      "layout": "IPY_MODEL_60798a7623b442cdbe31e567920261bf",
      "max": 553433881,
      "min": 0,
      "orientation": "horizontal",
      "style": "IPY_MODEL_f9ba1a545c164bf790b97706f92d4850",
      "value": 553433881
     }
    },
    "e7af95c75fe044969c4fcfc0f9cedada": {
     "model_module": "@jupyter-widgets/controls",
     "model_name": "HTMLModel",
     "state": {
      "_dom_classes": [],
      "_model_module": "@jupyter-widgets/controls",
      "_model_module_version": "1.5.0",
      "_model_name": "HTMLModel",
      "_view_count": null,
      "_view_module": "@jupyter-widgets/controls",
      "_view_module_version": "1.5.0",
      "_view_name": "HTMLView",
      "description": "",
      "description_tooltip": null,
      "layout": "IPY_MODEL_a0bccb3fd4454fff85bcd4ddd5637647",
      "placeholder": "​",
      "style": "IPY_MODEL_a4ea5950f45645718772b2a158155918",
      "value": " 528M/528M [00:20&lt;00:00, 26.8MB/s]"
     }
    },
    "f9ba1a545c164bf790b97706f92d4850": {
     "model_module": "@jupyter-widgets/controls",
     "model_name": "ProgressStyleModel",
     "state": {
      "_model_module": "@jupyter-widgets/controls",
      "_model_module_version": "1.5.0",
      "_model_name": "ProgressStyleModel",
      "_view_count": null,
      "_view_module": "@jupyter-widgets/base",
      "_view_module_version": "1.2.0",
      "_view_name": "StyleView",
      "bar_color": null,
      "description_width": "initial"
     }
    }
   }
  }
 },
 "nbformat": 4,
 "nbformat_minor": 1
}
