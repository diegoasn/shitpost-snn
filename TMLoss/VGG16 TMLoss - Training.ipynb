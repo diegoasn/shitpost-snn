{
 "cells": [
  {
   "cell_type": "markdown",
   "metadata": {
    "id": "lANElZ9uX43P"
   },
   "source": [
    "# Siamese Neural Network (SNN)"
   ]
  },
  {
   "cell_type": "markdown",
   "metadata": {
    "id": "F6viiDEnX43X"
   },
   "source": [
    "## Importando bibliotecas"
   ]
  },
  {
   "cell_type": "code",
   "execution_count": null,
   "metadata": {
    "id": "jCp51VCKX43d"
   },
   "outputs": [],
   "source": [
    "%matplotlib inline\n",
    "import torchvision\n",
    "import torchvision.datasets as dset\n",
    "import torchvision.transforms as transforms\n",
    "import torchvision.models as models\n",
    "from torch.utils.data import DataLoader, Dataset\n",
    "import matplotlib.pyplot as plt\n",
    "import torchvision.utils\n",
    "import numpy as np\n",
    "import random\n",
    "import pandas as pd\n",
    "from PIL import Image\n",
    "import torch\n",
    "import PIL.ImageOps    \n",
    "import torch.nn as nn\n",
    "from torch import optim\n",
    "import torch.nn.functional as F\n",
    "from math import sqrt"
   ]
  },
  {
   "cell_type": "markdown",
   "metadata": {
    "id": "kWXWHfolX44g"
   },
   "source": [
    "## Configuration class"
   ]
  },
  {
   "cell_type": "code",
   "execution_count": null,
   "metadata": {
    "id": "SwXLG_4mX44l"
   },
   "outputs": [],
   "source": [
    "class Config:\n",
    "    \n",
    "    def __init__(self, training_dir, testing_dir, dir_training, dir_testing, batch_s, n_epochs):\n",
    "        self.training_dir = training_dir\n",
    "        self.testing_dir = testing_dir\n",
    "        self.dset_training = pd.read_csv(dir_training, index_col = 0)\n",
    "        self.dset_testing = pd.read_csv(dir_testing, index_col = 0)\n",
    "        self.train_batch_size = batch_s\n",
    "        self.train_number_epochs = n_epochs\n",
    "\n",
    "conf = Config(\"./data/memes/training/\", \n",
    "              \"./data/memes/testing/\",\n",
    "              \"./data/spb_training.csv\", \n",
    "              \"./data/spb_testing.csv\",\n",
    "              16, \n",
    "              150)"
   ]
  },
  {
   "cell_type": "markdown",
   "metadata": {
    "id": "lj2DA8lRX446"
   },
   "source": [
    "## Dataset class"
   ]
  },
  {
   "cell_type": "code",
   "execution_count": null,
   "metadata": {
    "id": "W3j3ZI6tylaI"
   },
   "outputs": [],
   "source": [
    "class SiameseNetworkDataset(Dataset):\n",
    "    \n",
    "    def __init__(self, imageFolderDataset, dset_csv, transform = None):\n",
    "        self.imageFolderDataset = imageFolderDataset\n",
    "        self.dset_csv = dset_csv\n",
    "        self.transform = transform\n",
    "        self.favs_list = sorted(self.dset_csv['favorites'].to_list())\n",
    "        self.max_fav = self.favs_list[-1]\n",
    "        self.min_fav = self.favs_list[0]\n",
    "        \n",
    "    def __getitem__(self, index):\n",
    "        img0_tuple = random.choice(self.imageFolderDataset.imgs)   \n",
    "        img0_id = self.obtain_id(img0_tuple[0])\n",
    "        fav0 = self.dset_csv.loc[img0_id]['favorites']\n",
    "        c = self.check_fav(fav0)\n",
    "        while fav0 == self.max_fav or fav0 == self.min_fav:\n",
    "            img0_tuple = random.choice(self.imageFolderDataset.imgs)   \n",
    "            img0_id = self.obtain_id(img0_tuple[0])\n",
    "            fav0 = self.dset_csv.loc[img0_id]['favorites']\n",
    "            c = self.check_fav(fav0)\n",
    "        while True:\n",
    "            img1_tuple = random.choice(self.imageFolderDataset.imgs)\n",
    "            while img1_tuple == img0_tuple:\n",
    "                img1_tuple = random.choice(self.imageFolderDataset.imgs)\n",
    "            img1_id = self.obtain_id(img1_tuple[0])\n",
    "            fav1 = self.dset_csv.loc[img1_id]['favorites']\n",
    "            if self.classify(fav0, fav1, c):\n",
    "                  break\n",
    "        while True:\n",
    "            img2_tuple = random.choice(self.imageFolderDataset.imgs)\n",
    "            while img2_tuple == img0_tuple or img2_tuple == img1_tuple:\n",
    "                img2_tuple = random.choice(self.imageFolderDataset.imgs)\n",
    "            img2_id = self.obtain_id(img2_tuple[0])\n",
    "            fav2 = self.dset_csv.loc[img2_id]['favorites']\n",
    "            if not self.classify(fav0, fav2, c):\n",
    "                  break\n",
    "        img0, img1, img2 = Image.open(img0_tuple[0]), Image.open(img1_tuple[0]), Image.open(img2_tuple[0])\n",
    "        img0, img1, img2 = img0.convert(\"RGB\"), img1.convert(\"RGB\"), img2.convert(\"RGB\")\n",
    "        if self.transform is not None:\n",
    "            img0 = self.transform(img0)\n",
    "            img1 = self.transform(img1)\n",
    "            img2 = self.transform(img2)\n",
    "        return img0, img1, img2, fav0, fav1, fav2\n",
    "    \n",
    "    def __len__(self):\n",
    "        return len(self.imageFolderDataset.imgs)\n",
    "\n",
    "    def obtain_id(self, img_route):\n",
    "        return int(img_route.split(\"/\")[-1].split(\".\")[0])\n",
    "    \n",
    "    def check_fav(self, fav):\n",
    "        fav_index = self.favs_list.index(fav)\n",
    "        if fav == self.min_fav or fav == self.max_fav:\n",
    "            return False\n",
    "        if abs(self.favs_list[fav_index - 1] - fav) < int(fav/10) or abs(self.favs_list[fav_index + 1] - fav) < int(fav/10):\n",
    "            if self.min_fav < fav - int(fav/10) or self.max_fav > fav + int(fav/10):\n",
    "                return True\n",
    "        return False\n",
    "    \n",
    "    def classify(self, fav0, fav1, condition):\n",
    "        dif = fav0 - fav1\n",
    "        if condition:\n",
    "            if abs(dif) < int(fav0/10):\n",
    "                return True\n",
    "            else:\n",
    "                return False\n",
    "        else: \n",
    "            if dif < - int(fav0/10):\n",
    "                return True\n",
    "            if dif > int(fav0/10):\n",
    "                return False"
   ]
  },
  {
   "cell_type": "code",
   "execution_count": null,
   "metadata": {
    "id": "89sY6nnxX45U"
   },
   "outputs": [],
   "source": [
    "folder_dataset = dset.ImageFolder(conf.training_dir)\n",
    "normalize = transforms.Normalize(mean = [0.485, 0.456, 0.406],\n",
    "                                 std = [0.229, 0.224, 0.225])\n",
    "siamese_dataset = SiameseNetworkDataset(imageFolderDataset = folder_dataset,\n",
    "                                        dset_csv = conf.dset_training,\n",
    "                                        transform = transforms.Compose([transforms.Resize((224, 224)),\n",
    "                                                    transforms.ToTensor(), \n",
    "                                                    normalize]))"
   ]
  },
  {
   "cell_type": "code",
   "execution_count": null,
   "metadata": {
    "id": "OgUccLiiX47E"
   },
   "outputs": [],
   "source": [
    "train_dataloader = DataLoader(siamese_dataset,\n",
    "                              shuffle = True,\n",
    "                              num_workers = 2,\n",
    "                              batch_size = conf.train_batch_size)"
   ]
  },
  {
   "cell_type": "markdown",
   "metadata": {
    "collapsed": true,
    "id": "xNnehwv9X46N"
   },
   "source": [
    "## Siamese Neural Network definition"
   ]
  },
  {
   "cell_type": "code",
   "execution_count": null,
   "metadata": {
    "id": "QBl4D4a3X46S"
   },
   "outputs": [],
   "source": [
    "class SiameseNetwork(nn.Module):\n",
    "    \n",
    "    def __init__(self, use_pretrained, feature_extracting, num_classes):\n",
    "        super(SiameseNetwork, self).__init__()\n",
    "        self.model_ft = models.vgg16(pretrained = use_pretrained)\n",
    "        self.set_parameter_requires_grad(self.model_ft, feature_extracting)\n",
    "        num_ftrs = self.model_ft.classifier[6].in_features\n",
    "        self.model_ft.classifier[6] = nn.Linear(num_ftrs, num_classes)\n",
    "\n",
    "    def set_parameter_requires_grad(self, model, feature_extracting):\n",
    "        if feature_extracting:\n",
    "            for param in model.parameters():\n",
    "                param.requires_grad = False\n",
    "\n",
    "    def forward_once(self, x):\n",
    "        output = self.model_ft(x)\n",
    "        return output\n",
    "\n",
    "    def forward(self, input1, input2, input3):\n",
    "        output1 = self.forward_once(input1)\n",
    "        output2 = self.forward_once(input2)\n",
    "        output3 = self.forward_once(input3)\n",
    "        return output1, output2, output3"
   ]
  },
  {
   "cell_type": "markdown",
   "metadata": {
    "id": "-rNNm5IMX46_"
   },
   "source": [
    "## Training (cosine similarity)"
   ]
  },
  {
   "cell_type": "code",
   "execution_count": null,
   "metadata": {
    "colab": {
     "base_uri": "https://localhost:8080/",
     "height": 576,
     "referenced_widgets": [
      "71d2c79c61064401b083818fc7f1d981",
      "da118b3168c14433aef9f941c513719e",
      "7bad634117df449fb664b9d06abcad31",
      "ae2aab7ffa23488f9447d86bb06a7b85",
      "9ab26a3cdae346bab2bef26d7dfc5087",
      "3ee7c7b32ab9437e816a7df7a94592f2",
      "ec1a17419e8b4257aaab670688a1f39c",
      "2188e617c9c9470197878be411c0c157"
     ]
    },
    "executionInfo": {
     "elapsed": 74201,
     "status": "ok",
     "timestamp": 1615425775155,
     "user": {
      "displayName": "Diego Alberto Salinas Navarro",
      "photoUrl": "https://lh3.googleusercontent.com/a-/AOh14GhbwNYSSG6XI9Y6slEjlzh6crW1ac3ikTlzpuIUMw=s64",
      "userId": "17435702845671512196"
     },
     "user_tz": 360
    },
    "id": "VHyZBV2xX47Z",
    "outputId": "1f4fea1f-6e01-4177-c96d-2bc3502f959d"
   },
   "outputs": [],
   "source": [
    "net = SiameseNetwork(True, True, 512).cuda()\n",
    "criterion = nn.TripletMarginWithDistanceLoss(distance_function = lambda x, y: 1.0 - F.cosine_similarity(x, y), margin = sqrt(3)/2).cuda()\n",
    "optimizer = optim.Adam(net.parameters(), lr = 1e-4)\n",
    "net.train()"
   ]
  },
  {
   "cell_type": "code",
   "execution_count": null,
   "metadata": {
    "colab": {
     "base_uri": "https://localhost:8080/"
    },
    "executionInfo": {
     "elapsed": 74193,
     "status": "ok",
     "timestamp": 1615425775159,
     "user": {
      "displayName": "Diego Alberto Salinas Navarro",
      "photoUrl": "https://lh3.googleusercontent.com/a-/AOh14GhbwNYSSG6XI9Y6slEjlzh6crW1ac3ikTlzpuIUMw=s64",
      "userId": "17435702845671512196"
     },
     "user_tz": 360
    },
    "id": "2LBX6_HRahYo",
    "outputId": "9f8b8c94-cd02-4f2c-cc64-0cfaddf73478"
   },
   "outputs": [],
   "source": [
    "for name, param in net.named_parameters():\n",
    "    if param.requires_grad == True:\n",
    "        print(name)"
   ]
  },
  {
   "cell_type": "code",
   "execution_count": null,
   "metadata": {
    "id": "oWi1Jt91X47x"
   },
   "outputs": [],
   "source": [
    "counter = []\n",
    "loss_history = [] \n",
    "iteration_number = 0"
   ]
  },
  {
   "cell_type": "code",
   "execution_count": null,
   "metadata": {
    "colab": {
     "base_uri": "https://localhost:8080/"
    },
    "executionInfo": {
     "elapsed": 2706179,
     "status": "ok",
     "timestamp": 1615428407166,
     "user": {
      "displayName": "Diego Alberto Salinas Navarro",
      "photoUrl": "https://lh3.googleusercontent.com/a-/AOh14GhbwNYSSG6XI9Y6slEjlzh6crW1ac3ikTlzpuIUMw=s64",
      "userId": "17435702845671512196"
     },
     "user_tz": 360
    },
    "id": "O3Pk5NlaX479",
    "outputId": "713b1156-6223-4582-c3e1-0c7822b99871",
    "scrolled": true
   },
   "outputs": [],
   "source": [
    "for epoch in range(0, conf.train_number_epochs):\n",
    "    for i, data in enumerate(train_dataloader, 0):\n",
    "        img0, img1, img2, _, _, _ = data\n",
    "        img0, img1, img2 = img0.cuda(), img1.cuda() , img2.cuda()\n",
    "        optimizer.zero_grad()\n",
    "        output1, output2, output3 = net(img0, img1, img2)\n",
    "        loss = criterion(output1, output2, output3)\n",
    "        loss.backward()\n",
    "        optimizer.step()\n",
    "    print(\"Epoch number {}\\n Current loss {}\\n\".format(epoch, loss.item()))\n",
    "    iteration_number += 1\n",
    "    counter.append(iteration_number)\n",
    "    loss_history.append(loss.item())"
   ]
  },
  {
   "cell_type": "code",
   "execution_count": null,
   "metadata": {
    "colab": {
     "base_uri": "https://localhost:8080/",
     "height": 624
    },
    "executionInfo": {
     "elapsed": 2706651,
     "status": "ok",
     "timestamp": 1615428407655,
     "user": {
      "displayName": "Diego Alberto Salinas Navarro",
      "photoUrl": "https://lh3.googleusercontent.com/a-/AOh14GhbwNYSSG6XI9Y6slEjlzh6crW1ac3ikTlzpuIUMw=s64",
      "userId": "17435702845671512196"
     },
     "user_tz": 360
    },
    "id": "TO0nh1FntEOw",
    "outputId": "3e7c326d-692d-4245-e16f-c0420d1f796a"
   },
   "outputs": [],
   "source": [
    "fig = plt.figure(figsize = (20, 10))\n",
    "plt.plot(counter, loss_history, 'r')\n",
    "plt.title('VGG16')\n",
    "plt.xlabel('Epochs')\n",
    "plt.ylabel('Loss')\n",
    "plt.rc('font', size = 15)\n",
    "plt.grid()\n",
    "plt.show()"
   ]
  },
  {
   "cell_type": "markdown",
   "metadata": {
    "id": "OiBKJLuvuDK8"
   },
   "source": [
    "## Saving model"
   ]
  },
  {
   "cell_type": "code",
   "execution_count": null,
   "metadata": {
    "id": "TsL7dG_Fccjw"
   },
   "outputs": [],
   "source": [
    "torch.save(net.state_dict(), \"./models/vgg16_simcos.zip\")\n",
    "print('Saved.')"
   ]
  },
  {
   "cell_type": "markdown",
   "metadata": {
    "id": "-rNNm5IMX46_"
   },
   "source": [
    "## Training (euclidean distance)"
   ]
  },
  {
   "cell_type": "code",
   "execution_count": null,
   "metadata": {
    "colab": {
     "base_uri": "https://localhost:8080/",
     "height": 576,
     "referenced_widgets": [
      "71d2c79c61064401b083818fc7f1d981",
      "da118b3168c14433aef9f941c513719e",
      "7bad634117df449fb664b9d06abcad31",
      "ae2aab7ffa23488f9447d86bb06a7b85",
      "9ab26a3cdae346bab2bef26d7dfc5087",
      "3ee7c7b32ab9437e816a7df7a94592f2",
      "ec1a17419e8b4257aaab670688a1f39c",
      "2188e617c9c9470197878be411c0c157"
     ]
    },
    "executionInfo": {
     "elapsed": 74201,
     "status": "ok",
     "timestamp": 1615425775155,
     "user": {
      "displayName": "Diego Alberto Salinas Navarro",
      "photoUrl": "https://lh3.googleusercontent.com/a-/AOh14GhbwNYSSG6XI9Y6slEjlzh6crW1ac3ikTlzpuIUMw=s64",
      "userId": "17435702845671512196"
     },
     "user_tz": 360
    },
    "id": "VHyZBV2xX47Z",
    "outputId": "1f4fea1f-6e01-4177-c96d-2bc3502f959d"
   },
   "outputs": [],
   "source": [
    "net = SiameseNetwork(True, True, 512).cuda()\n",
    "criterion = nn.TripletMarginLoss(margin = 1.0).cuda()\n",
    "optimizer = optim.Adam(net.parameters(), lr = 1e-4)\n",
    "net.train()"
   ]
  },
  {
   "cell_type": "code",
   "execution_count": null,
   "metadata": {
    "colab": {
     "base_uri": "https://localhost:8080/"
    },
    "executionInfo": {
     "elapsed": 74193,
     "status": "ok",
     "timestamp": 1615425775159,
     "user": {
      "displayName": "Diego Alberto Salinas Navarro",
      "photoUrl": "https://lh3.googleusercontent.com/a-/AOh14GhbwNYSSG6XI9Y6slEjlzh6crW1ac3ikTlzpuIUMw=s64",
      "userId": "17435702845671512196"
     },
     "user_tz": 360
    },
    "id": "2LBX6_HRahYo",
    "outputId": "9f8b8c94-cd02-4f2c-cc64-0cfaddf73478"
   },
   "outputs": [],
   "source": [
    "for name, param in net.named_parameters():\n",
    "    if param.requires_grad == True:\n",
    "        print(name)"
   ]
  },
  {
   "cell_type": "code",
   "execution_count": null,
   "metadata": {
    "id": "oWi1Jt91X47x"
   },
   "outputs": [],
   "source": [
    "counter = []\n",
    "loss_history = [] \n",
    "iteration_number = 0"
   ]
  },
  {
   "cell_type": "code",
   "execution_count": null,
   "metadata": {
    "colab": {
     "base_uri": "https://localhost:8080/"
    },
    "executionInfo": {
     "elapsed": 2706179,
     "status": "ok",
     "timestamp": 1615428407166,
     "user": {
      "displayName": "Diego Alberto Salinas Navarro",
      "photoUrl": "https://lh3.googleusercontent.com/a-/AOh14GhbwNYSSG6XI9Y6slEjlzh6crW1ac3ikTlzpuIUMw=s64",
      "userId": "17435702845671512196"
     },
     "user_tz": 360
    },
    "id": "O3Pk5NlaX479",
    "outputId": "713b1156-6223-4582-c3e1-0c7822b99871",
    "scrolled": true
   },
   "outputs": [],
   "source": [
    "for epoch in range(0, conf.train_number_epochs):\n",
    "    for i, data in enumerate(train_dataloader, 0):\n",
    "        img0, img1, img2, _, _, _ = data\n",
    "        img0, img1, img2 = img0.cuda(), img1.cuda() , img2.cuda()\n",
    "        optimizer.zero_grad()\n",
    "        output1, output2, output3 = net(img0, img1, img2)\n",
    "        loss = criterion(output1, output2, output3)\n",
    "        loss.backward()\n",
    "        optimizer.step()\n",
    "    print(\"Epoch number {}\\n Current loss {}\\n\".format(epoch, loss.item()))\n",
    "    iteration_number += 1\n",
    "    counter.append(iteration_number)\n",
    "    loss_history.append(loss.item())"
   ]
  },
  {
   "cell_type": "code",
   "execution_count": null,
   "metadata": {
    "colab": {
     "base_uri": "https://localhost:8080/",
     "height": 624
    },
    "executionInfo": {
     "elapsed": 2706651,
     "status": "ok",
     "timestamp": 1615428407655,
     "user": {
      "displayName": "Diego Alberto Salinas Navarro",
      "photoUrl": "https://lh3.googleusercontent.com/a-/AOh14GhbwNYSSG6XI9Y6slEjlzh6crW1ac3ikTlzpuIUMw=s64",
      "userId": "17435702845671512196"
     },
     "user_tz": 360
    },
    "id": "TO0nh1FntEOw",
    "outputId": "3e7c326d-692d-4245-e16f-c0420d1f796a"
   },
   "outputs": [],
   "source": [
    "fig = plt.figure(figsize = (20, 10))\n",
    "plt.plot(counter, loss_history, 'r')\n",
    "plt.title('VGG16')\n",
    "plt.xlabel('Epochs')\n",
    "plt.ylabel('Loss')\n",
    "plt.rc('font', size = 15)\n",
    "plt.grid()\n",
    "plt.show()"
   ]
  },
  {
   "cell_type": "markdown",
   "metadata": {
    "id": "OiBKJLuvuDK8"
   },
   "source": [
    "## Saving model"
   ]
  },
  {
   "cell_type": "code",
   "execution_count": null,
   "metadata": {
    "id": "TsL7dG_Fccjw"
   },
   "outputs": [],
   "source": [
    "torch.save(net.state_dict(), \"./models/vgg16_euc.zip\")\n",
    "print('Saved.')"
   ]
  }
 ],
 "metadata": {
  "accelerator": "GPU",
  "colab": {
   "collapsed_sections": [],
   "name": "AlexNet TMLoss - Similitud de coseno (Entrenamiento).ipynb",
   "provenance": [
    {
     "file_id": "1hhOVs51NPny6oavkyW_-kl-dZ1WegryB",
     "timestamp": 1605606761545
    }
   ]
  },
  "hide_input": false,
  "kernelspec": {
   "display_name": "Python 3",
   "language": "python",
   "name": "python3"
  },
  "language_info": {
   "codemirror_mode": {
    "name": "ipython",
    "version": 3
   },
   "file_extension": ".py",
   "mimetype": "text/x-python",
   "name": "python",
   "nbconvert_exporter": "python",
   "pygments_lexer": "ipython3",
   "version": "3.8.5"
  },
  "widgets": {
   "application/vnd.jupyter.widget-state+json": {
    "2188e617c9c9470197878be411c0c157": {
     "model_module": "@jupyter-widgets/base",
     "model_name": "LayoutModel",
     "state": {
      "_model_module": "@jupyter-widgets/base",
      "_model_module_version": "1.2.0",
      "_model_name": "LayoutModel",
      "_view_count": null,
      "_view_module": "@jupyter-widgets/base",
      "_view_module_version": "1.2.0",
      "_view_name": "LayoutView",
      "align_content": null,
      "align_items": null,
      "align_self": null,
      "border": null,
      "bottom": null,
      "display": null,
      "flex": null,
      "flex_flow": null,
      "grid_area": null,
      "grid_auto_columns": null,
      "grid_auto_flow": null,
      "grid_auto_rows": null,
      "grid_column": null,
      "grid_gap": null,
      "grid_row": null,
      "grid_template_areas": null,
      "grid_template_columns": null,
      "grid_template_rows": null,
      "height": null,
      "justify_content": null,
      "justify_items": null,
      "left": null,
      "margin": null,
      "max_height": null,
      "max_width": null,
      "min_height": null,
      "min_width": null,
      "object_fit": null,
      "object_position": null,
      "order": null,
      "overflow": null,
      "overflow_x": null,
      "overflow_y": null,
      "padding": null,
      "right": null,
      "top": null,
      "visibility": null,
      "width": null
     }
    },
    "3ee7c7b32ab9437e816a7df7a94592f2": {
     "model_module": "@jupyter-widgets/base",
     "model_name": "LayoutModel",
     "state": {
      "_model_module": "@jupyter-widgets/base",
      "_model_module_version": "1.2.0",
      "_model_name": "LayoutModel",
      "_view_count": null,
      "_view_module": "@jupyter-widgets/base",
      "_view_module_version": "1.2.0",
      "_view_name": "LayoutView",
      "align_content": null,
      "align_items": null,
      "align_self": null,
      "border": null,
      "bottom": null,
      "display": null,
      "flex": null,
      "flex_flow": null,
      "grid_area": null,
      "grid_auto_columns": null,
      "grid_auto_flow": null,
      "grid_auto_rows": null,
      "grid_column": null,
      "grid_gap": null,
      "grid_row": null,
      "grid_template_areas": null,
      "grid_template_columns": null,
      "grid_template_rows": null,
      "height": null,
      "justify_content": null,
      "justify_items": null,
      "left": null,
      "margin": null,
      "max_height": null,
      "max_width": null,
      "min_height": null,
      "min_width": null,
      "object_fit": null,
      "object_position": null,
      "order": null,
      "overflow": null,
      "overflow_x": null,
      "overflow_y": null,
      "padding": null,
      "right": null,
      "top": null,
      "visibility": null,
      "width": null
     }
    },
    "71d2c79c61064401b083818fc7f1d981": {
     "model_module": "@jupyter-widgets/controls",
     "model_name": "HBoxModel",
     "state": {
      "_dom_classes": [],
      "_model_module": "@jupyter-widgets/controls",
      "_model_module_version": "1.5.0",
      "_model_name": "HBoxModel",
      "_view_count": null,
      "_view_module": "@jupyter-widgets/controls",
      "_view_module_version": "1.5.0",
      "_view_name": "HBoxView",
      "box_style": "",
      "children": [
       "IPY_MODEL_7bad634117df449fb664b9d06abcad31",
       "IPY_MODEL_ae2aab7ffa23488f9447d86bb06a7b85"
      ],
      "layout": "IPY_MODEL_da118b3168c14433aef9f941c513719e"
     }
    },
    "7bad634117df449fb664b9d06abcad31": {
     "model_module": "@jupyter-widgets/controls",
     "model_name": "FloatProgressModel",
     "state": {
      "_dom_classes": [],
      "_model_module": "@jupyter-widgets/controls",
      "_model_module_version": "1.5.0",
      "_model_name": "FloatProgressModel",
      "_view_count": null,
      "_view_module": "@jupyter-widgets/controls",
      "_view_module_version": "1.5.0",
      "_view_name": "ProgressView",
      "bar_style": "success",
      "description": "100%",
      "description_tooltip": null,
      "layout": "IPY_MODEL_3ee7c7b32ab9437e816a7df7a94592f2",
      "max": 244418560,
      "min": 0,
      "orientation": "horizontal",
      "style": "IPY_MODEL_9ab26a3cdae346bab2bef26d7dfc5087",
      "value": 244418560
     }
    },
    "9ab26a3cdae346bab2bef26d7dfc5087": {
     "model_module": "@jupyter-widgets/controls",
     "model_name": "ProgressStyleModel",
     "state": {
      "_model_module": "@jupyter-widgets/controls",
      "_model_module_version": "1.5.0",
      "_model_name": "ProgressStyleModel",
      "_view_count": null,
      "_view_module": "@jupyter-widgets/base",
      "_view_module_version": "1.2.0",
      "_view_name": "StyleView",
      "bar_color": null,
      "description_width": "initial"
     }
    },
    "ae2aab7ffa23488f9447d86bb06a7b85": {
     "model_module": "@jupyter-widgets/controls",
     "model_name": "HTMLModel",
     "state": {
      "_dom_classes": [],
      "_model_module": "@jupyter-widgets/controls",
      "_model_module_version": "1.5.0",
      "_model_name": "HTMLModel",
      "_view_count": null,
      "_view_module": "@jupyter-widgets/controls",
      "_view_module_version": "1.5.0",
      "_view_name": "HTMLView",
      "description": "",
      "description_tooltip": null,
      "layout": "IPY_MODEL_2188e617c9c9470197878be411c0c157",
      "placeholder": "​",
      "style": "IPY_MODEL_ec1a17419e8b4257aaab670688a1f39c",
      "value": " 233M/233M [44:10&lt;00:00, 92.2kB/s]"
     }
    },
    "da118b3168c14433aef9f941c513719e": {
     "model_module": "@jupyter-widgets/base",
     "model_name": "LayoutModel",
     "state": {
      "_model_module": "@jupyter-widgets/base",
      "_model_module_version": "1.2.0",
      "_model_name": "LayoutModel",
      "_view_count": null,
      "_view_module": "@jupyter-widgets/base",
      "_view_module_version": "1.2.0",
      "_view_name": "LayoutView",
      "align_content": null,
      "align_items": null,
      "align_self": null,
      "border": null,
      "bottom": null,
      "display": null,
      "flex": null,
      "flex_flow": null,
      "grid_area": null,
      "grid_auto_columns": null,
      "grid_auto_flow": null,
      "grid_auto_rows": null,
      "grid_column": null,
      "grid_gap": null,
      "grid_row": null,
      "grid_template_areas": null,
      "grid_template_columns": null,
      "grid_template_rows": null,
      "height": null,
      "justify_content": null,
      "justify_items": null,
      "left": null,
      "margin": null,
      "max_height": null,
      "max_width": null,
      "min_height": null,
      "min_width": null,
      "object_fit": null,
      "object_position": null,
      "order": null,
      "overflow": null,
      "overflow_x": null,
      "overflow_y": null,
      "padding": null,
      "right": null,
      "top": null,
      "visibility": null,
      "width": null
     }
    },
    "ec1a17419e8b4257aaab670688a1f39c": {
     "model_module": "@jupyter-widgets/controls",
     "model_name": "DescriptionStyleModel",
     "state": {
      "_model_module": "@jupyter-widgets/controls",
      "_model_module_version": "1.5.0",
      "_model_name": "DescriptionStyleModel",
      "_view_count": null,
      "_view_module": "@jupyter-widgets/base",
      "_view_module_version": "1.2.0",
      "_view_name": "StyleView",
      "description_width": ""
     }
    }
   }
  }
 },
 "nbformat": 4,
 "nbformat_minor": 1
}
